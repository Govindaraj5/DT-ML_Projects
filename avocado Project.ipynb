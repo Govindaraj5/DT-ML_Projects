{
 "cells": [
  {
   "cell_type": "code",
   "execution_count": 1,
   "id": "8ca42de1",
   "metadata": {},
   "outputs": [],
   "source": [
    "# load lib to read data\n",
    "import pandas as pd"
   ]
  },
  {
   "cell_type": "code",
   "execution_count": 29,
   "id": "81ec64d8",
   "metadata": {},
   "outputs": [
    {
     "data": {
      "text/plain": [
       "Index(['Unnamed: 0', 'Date', 'AveragePrice', 'Total Volume', '4046', '4225',\n",
       "       '4770', 'Total Bags', 'Small Bags', 'Large Bags', 'XLarge Bags', 'type',\n",
       "       'year', 'region'],\n",
       "      dtype='object')"
      ]
     },
     "execution_count": 29,
     "metadata": {},
     "output_type": "execute_result"
    }
   ],
   "source": [
    "df=pd.read_csv('C:\\\\Users\\\\Hp\\Downloads\\\\avocado\\\\avocado.csv')\n",
    "df.columns"
   ]
  },
  {
   "cell_type": "code",
   "execution_count": 34,
   "id": "38d946cb",
   "metadata": {},
   "outputs": [
    {
     "data": {
      "text/plain": [
       "(18249, 14)"
      ]
     },
     "execution_count": 34,
     "metadata": {},
     "output_type": "execute_result"
    }
   ],
   "source": [
    "df.shape"
   ]
  },
  {
   "cell_type": "code",
   "execution_count": 30,
   "id": "21e5b5f0",
   "metadata": {},
   "outputs": [],
   "source": [
    "# remove the first coloum which is row number\n",
    "avocado=df.iloc[:,1:]"
   ]
  },
  {
   "cell_type": "code",
   "execution_count": 31,
   "id": "5ff76248",
   "metadata": {},
   "outputs": [
    {
     "data": {
      "text/html": [
       "<div>\n",
       "<style scoped>\n",
       "    .dataframe tbody tr th:only-of-type {\n",
       "        vertical-align: middle;\n",
       "    }\n",
       "\n",
       "    .dataframe tbody tr th {\n",
       "        vertical-align: top;\n",
       "    }\n",
       "\n",
       "    .dataframe thead th {\n",
       "        text-align: right;\n",
       "    }\n",
       "</style>\n",
       "<table border=\"1\" class=\"dataframe\">\n",
       "  <thead>\n",
       "    <tr style=\"text-align: right;\">\n",
       "      <th></th>\n",
       "      <th>Date</th>\n",
       "      <th>AveragePrice</th>\n",
       "      <th>Total Volume</th>\n",
       "      <th>4046</th>\n",
       "      <th>4225</th>\n",
       "      <th>4770</th>\n",
       "      <th>Total Bags</th>\n",
       "      <th>Small Bags</th>\n",
       "      <th>Large Bags</th>\n",
       "      <th>XLarge Bags</th>\n",
       "      <th>type</th>\n",
       "      <th>year</th>\n",
       "      <th>region</th>\n",
       "    </tr>\n",
       "  </thead>\n",
       "  <tbody>\n",
       "    <tr>\n",
       "      <th>0</th>\n",
       "      <td>2015-12-27</td>\n",
       "      <td>1.33</td>\n",
       "      <td>64236.62</td>\n",
       "      <td>1036.74</td>\n",
       "      <td>54454.85</td>\n",
       "      <td>48.16</td>\n",
       "      <td>8696.87</td>\n",
       "      <td>8603.62</td>\n",
       "      <td>93.25</td>\n",
       "      <td>0.0</td>\n",
       "      <td>conventional</td>\n",
       "      <td>2015</td>\n",
       "      <td>Albany</td>\n",
       "    </tr>\n",
       "    <tr>\n",
       "      <th>1</th>\n",
       "      <td>2015-12-20</td>\n",
       "      <td>1.35</td>\n",
       "      <td>54876.98</td>\n",
       "      <td>674.28</td>\n",
       "      <td>44638.81</td>\n",
       "      <td>58.33</td>\n",
       "      <td>9505.56</td>\n",
       "      <td>9408.07</td>\n",
       "      <td>97.49</td>\n",
       "      <td>0.0</td>\n",
       "      <td>conventional</td>\n",
       "      <td>2015</td>\n",
       "      <td>Albany</td>\n",
       "    </tr>\n",
       "    <tr>\n",
       "      <th>2</th>\n",
       "      <td>2015-12-13</td>\n",
       "      <td>0.93</td>\n",
       "      <td>118220.22</td>\n",
       "      <td>794.70</td>\n",
       "      <td>109149.67</td>\n",
       "      <td>130.50</td>\n",
       "      <td>8145.35</td>\n",
       "      <td>8042.21</td>\n",
       "      <td>103.14</td>\n",
       "      <td>0.0</td>\n",
       "      <td>conventional</td>\n",
       "      <td>2015</td>\n",
       "      <td>Albany</td>\n",
       "    </tr>\n",
       "    <tr>\n",
       "      <th>3</th>\n",
       "      <td>2015-12-06</td>\n",
       "      <td>1.08</td>\n",
       "      <td>78992.15</td>\n",
       "      <td>1132.00</td>\n",
       "      <td>71976.41</td>\n",
       "      <td>72.58</td>\n",
       "      <td>5811.16</td>\n",
       "      <td>5677.40</td>\n",
       "      <td>133.76</td>\n",
       "      <td>0.0</td>\n",
       "      <td>conventional</td>\n",
       "      <td>2015</td>\n",
       "      <td>Albany</td>\n",
       "    </tr>\n",
       "    <tr>\n",
       "      <th>4</th>\n",
       "      <td>2015-11-29</td>\n",
       "      <td>1.28</td>\n",
       "      <td>51039.60</td>\n",
       "      <td>941.48</td>\n",
       "      <td>43838.39</td>\n",
       "      <td>75.78</td>\n",
       "      <td>6183.95</td>\n",
       "      <td>5986.26</td>\n",
       "      <td>197.69</td>\n",
       "      <td>0.0</td>\n",
       "      <td>conventional</td>\n",
       "      <td>2015</td>\n",
       "      <td>Albany</td>\n",
       "    </tr>\n",
       "  </tbody>\n",
       "</table>\n",
       "</div>"
      ],
      "text/plain": [
       "         Date  AveragePrice  Total Volume     4046       4225    4770  \\\n",
       "0  2015-12-27          1.33      64236.62  1036.74   54454.85   48.16   \n",
       "1  2015-12-20          1.35      54876.98   674.28   44638.81   58.33   \n",
       "2  2015-12-13          0.93     118220.22   794.70  109149.67  130.50   \n",
       "3  2015-12-06          1.08      78992.15  1132.00   71976.41   72.58   \n",
       "4  2015-11-29          1.28      51039.60   941.48   43838.39   75.78   \n",
       "\n",
       "   Total Bags  Small Bags  Large Bags  XLarge Bags          type  year  region  \n",
       "0     8696.87     8603.62       93.25          0.0  conventional  2015  Albany  \n",
       "1     9505.56     9408.07       97.49          0.0  conventional  2015  Albany  \n",
       "2     8145.35     8042.21      103.14          0.0  conventional  2015  Albany  \n",
       "3     5811.16     5677.40      133.76          0.0  conventional  2015  Albany  \n",
       "4     6183.95     5986.26      197.69          0.0  conventional  2015  Albany  "
      ]
     },
     "execution_count": 31,
     "metadata": {},
     "output_type": "execute_result"
    }
   ],
   "source": [
    "avocado.head()"
   ]
  },
  {
   "cell_type": "code",
   "execution_count": 35,
   "id": "ce4c2610",
   "metadata": {},
   "outputs": [
    {
     "data": {
      "text/html": [
       "<div>\n",
       "<style scoped>\n",
       "    .dataframe tbody tr th:only-of-type {\n",
       "        vertical-align: middle;\n",
       "    }\n",
       "\n",
       "    .dataframe tbody tr th {\n",
       "        vertical-align: top;\n",
       "    }\n",
       "\n",
       "    .dataframe thead th {\n",
       "        text-align: right;\n",
       "    }\n",
       "</style>\n",
       "<table border=\"1\" class=\"dataframe\">\n",
       "  <thead>\n",
       "    <tr style=\"text-align: right;\">\n",
       "      <th></th>\n",
       "      <th>Date</th>\n",
       "      <th>AveragePrice</th>\n",
       "      <th>Total Volume</th>\n",
       "      <th>PLU 4046 sold</th>\n",
       "      <th>PLU 4225 sold</th>\n",
       "      <th>PLU 4770 sold</th>\n",
       "      <th>Total Bags</th>\n",
       "      <th>Small Bags</th>\n",
       "      <th>Large Bags</th>\n",
       "      <th>XLarge Bags</th>\n",
       "      <th>type</th>\n",
       "      <th>year</th>\n",
       "      <th>region</th>\n",
       "    </tr>\n",
       "  </thead>\n",
       "  <tbody>\n",
       "    <tr>\n",
       "      <th>0</th>\n",
       "      <td>2015-12-27</td>\n",
       "      <td>1.33</td>\n",
       "      <td>64236.62</td>\n",
       "      <td>1036.74</td>\n",
       "      <td>54454.85</td>\n",
       "      <td>48.16</td>\n",
       "      <td>8696.87</td>\n",
       "      <td>8603.62</td>\n",
       "      <td>93.25</td>\n",
       "      <td>0.0</td>\n",
       "      <td>conventional</td>\n",
       "      <td>2015</td>\n",
       "      <td>Albany</td>\n",
       "    </tr>\n",
       "    <tr>\n",
       "      <th>1</th>\n",
       "      <td>2015-12-20</td>\n",
       "      <td>1.35</td>\n",
       "      <td>54876.98</td>\n",
       "      <td>674.28</td>\n",
       "      <td>44638.81</td>\n",
       "      <td>58.33</td>\n",
       "      <td>9505.56</td>\n",
       "      <td>9408.07</td>\n",
       "      <td>97.49</td>\n",
       "      <td>0.0</td>\n",
       "      <td>conventional</td>\n",
       "      <td>2015</td>\n",
       "      <td>Albany</td>\n",
       "    </tr>\n",
       "    <tr>\n",
       "      <th>2</th>\n",
       "      <td>2015-12-13</td>\n",
       "      <td>0.93</td>\n",
       "      <td>118220.22</td>\n",
       "      <td>794.70</td>\n",
       "      <td>109149.67</td>\n",
       "      <td>130.50</td>\n",
       "      <td>8145.35</td>\n",
       "      <td>8042.21</td>\n",
       "      <td>103.14</td>\n",
       "      <td>0.0</td>\n",
       "      <td>conventional</td>\n",
       "      <td>2015</td>\n",
       "      <td>Albany</td>\n",
       "    </tr>\n",
       "    <tr>\n",
       "      <th>3</th>\n",
       "      <td>2015-12-06</td>\n",
       "      <td>1.08</td>\n",
       "      <td>78992.15</td>\n",
       "      <td>1132.00</td>\n",
       "      <td>71976.41</td>\n",
       "      <td>72.58</td>\n",
       "      <td>5811.16</td>\n",
       "      <td>5677.40</td>\n",
       "      <td>133.76</td>\n",
       "      <td>0.0</td>\n",
       "      <td>conventional</td>\n",
       "      <td>2015</td>\n",
       "      <td>Albany</td>\n",
       "    </tr>\n",
       "    <tr>\n",
       "      <th>4</th>\n",
       "      <td>2015-11-29</td>\n",
       "      <td>1.28</td>\n",
       "      <td>51039.60</td>\n",
       "      <td>941.48</td>\n",
       "      <td>43838.39</td>\n",
       "      <td>75.78</td>\n",
       "      <td>6183.95</td>\n",
       "      <td>5986.26</td>\n",
       "      <td>197.69</td>\n",
       "      <td>0.0</td>\n",
       "      <td>conventional</td>\n",
       "      <td>2015</td>\n",
       "      <td>Albany</td>\n",
       "    </tr>\n",
       "  </tbody>\n",
       "</table>\n",
       "</div>"
      ],
      "text/plain": [
       "         Date  AveragePrice  Total Volume  PLU 4046 sold  PLU 4225 sold  \\\n",
       "0  2015-12-27          1.33      64236.62        1036.74       54454.85   \n",
       "1  2015-12-20          1.35      54876.98         674.28       44638.81   \n",
       "2  2015-12-13          0.93     118220.22         794.70      109149.67   \n",
       "3  2015-12-06          1.08      78992.15        1132.00       71976.41   \n",
       "4  2015-11-29          1.28      51039.60         941.48       43838.39   \n",
       "\n",
       "   PLU 4770 sold  Total Bags  Small Bags  Large Bags  XLarge Bags  \\\n",
       "0          48.16     8696.87     8603.62       93.25          0.0   \n",
       "1          58.33     9505.56     9408.07       97.49          0.0   \n",
       "2         130.50     8145.35     8042.21      103.14          0.0   \n",
       "3          72.58     5811.16     5677.40      133.76          0.0   \n",
       "4          75.78     6183.95     5986.26      197.69          0.0   \n",
       "\n",
       "           type  year  region  \n",
       "0  conventional  2015  Albany  \n",
       "1  conventional  2015  Albany  \n",
       "2  conventional  2015  Albany  \n",
       "3  conventional  2015  Albany  \n",
       "4  conventional  2015  Albany  "
      ]
     },
     "execution_count": 35,
     "metadata": {},
     "output_type": "execute_result"
    }
   ],
   "source": [
    "# change col name of 4046,4225 and 4770 for better understanding \n",
    "\n",
    "avocado.rename(columns = {'4046':'PLU 4046 sold','4225':'PLU 4225 sold','4770':'PLU 4770 sold'},inplace=True)\n",
    "avocado.head()"
   ]
  },
  {
   "cell_type": "code",
   "execution_count": 86,
   "id": "c2c16294",
   "metadata": {},
   "outputs": [
    {
     "data": {
      "text/plain": [
       "1.33"
      ]
     },
     "execution_count": 86,
     "metadata": {},
     "output_type": "execute_result"
    }
   ],
   "source": [
    "64236.621.33"
   ]
  },
  {
   "cell_type": "code",
   "execution_count": 39,
   "id": "86ac16ba",
   "metadata": {},
   "outputs": [
    {
     "data": {
      "text/plain": [
       "Index(['Date', 'AveragePrice', 'Total Volume', 'PLU 4046 sold',\n",
       "       'PLU 4225 sold', 'PLU 4770 sold', 'Total Bags', 'Small Bags',\n",
       "       'Large Bags', 'XLarge Bags', 'type', 'year', 'region'],\n",
       "      dtype='object')"
      ]
     },
     "execution_count": 39,
     "metadata": {},
     "output_type": "execute_result"
    }
   ],
   "source": [
    "avocado.columns"
   ]
  },
  {
   "cell_type": "code",
   "execution_count": 38,
   "id": "73ef7e30",
   "metadata": {},
   "outputs": [
    {
     "data": {
      "text/plain": [
       "pandas.core.frame.DataFrame"
      ]
     },
     "execution_count": 38,
     "metadata": {},
     "output_type": "execute_result"
    }
   ],
   "source": [
    "type(avocado)"
   ]
  },
  {
   "cell_type": "markdown",
   "id": "034a24f2",
   "metadata": {},
   "source": [
    "Problem statement:\n",
    "Avocado is a fruit consumed by people heavily in the United States. \n",
    "\n",
    "Content\n",
    "This data was downloaded from the Hass Avocado Board website in May of 2018 & compiled into a single CSV. \n",
    "\n",
    "The table below represents weekly 2018 retail scan data for National retail volume (units) and price. Retail scan data comes directly from retailers’ cash registers based on actual retail sales of Hass avocados. \n",
    "\n",
    "Starting in 2013, the table below reflects an expanded, multi-outlet retail data set. Multi-outlet reporting includes an aggregation of the following channels: grocery, mass, club, drug, dollar and military. The Average Price (of avocados) in the table reflects a per unit (per avocado) cost, even when multiple units (avocados) are sold in bags. \n",
    "\n",
    "The Product Lookup codes (PLU’s) in the table are only for Hass avocados. Other varieties of avocados (e.g. greenskins) are not included in this table.\n",
    "\n",
    "Some relevant columns in the dataset:\n",
    "\n",
    "Date - The date of the observation\n",
    "AveragePrice - the average price of a single avocado\n",
    "type - conventional or organic\n",
    "year - the year\n",
    "Region - the city or region of the observation\n",
    "Total Volume - Total number of avocados sold\n",
    "4046 - Total number of avocados with PLU 4046 sold\n",
    "4225 - Total number of avocados with PLU 4225 sold\n",
    "4770 - Total number of avocados with PLU 4770 sold\n"
   ]
  },
  {
   "cell_type": "code",
   "execution_count": 40,
   "id": "07129c23",
   "metadata": {},
   "outputs": [
    {
     "data": {
      "text/plain": [
       "Date             0\n",
       "AveragePrice     0\n",
       "Total Volume     0\n",
       "PLU 4046 sold    0\n",
       "PLU 4225 sold    0\n",
       "PLU 4770 sold    0\n",
       "Total Bags       0\n",
       "Small Bags       0\n",
       "Large Bags       0\n",
       "XLarge Bags      0\n",
       "type             0\n",
       "year             0\n",
       "region           0\n",
       "dtype: int64"
      ]
     },
     "execution_count": 40,
     "metadata": {},
     "output_type": "execute_result"
    }
   ],
   "source": [
    "#Check null values in the dataframe \n",
    "avocado.isnull().sum()"
   ]
  },
  {
   "cell_type": "markdown",
   "id": "f4fcd524",
   "metadata": {},
   "source": [
    "No null values presents in the df"
   ]
  },
  {
   "cell_type": "code",
   "execution_count": 114,
   "id": "0b3062c0",
   "metadata": {},
   "outputs": [
    {
     "data": {
      "text/html": [
       "<div>\n",
       "<style scoped>\n",
       "    .dataframe tbody tr th:only-of-type {\n",
       "        vertical-align: middle;\n",
       "    }\n",
       "\n",
       "    .dataframe tbody tr th {\n",
       "        vertical-align: top;\n",
       "    }\n",
       "\n",
       "    .dataframe thead th {\n",
       "        text-align: right;\n",
       "    }\n",
       "</style>\n",
       "<table border=\"1\" class=\"dataframe\">\n",
       "  <thead>\n",
       "    <tr style=\"text-align: right;\">\n",
       "      <th></th>\n",
       "      <th>conventional</th>\n",
       "      <th>organic</th>\n",
       "    </tr>\n",
       "  </thead>\n",
       "  <tbody>\n",
       "    <tr>\n",
       "      <th>0</th>\n",
       "      <td>1</td>\n",
       "      <td>0</td>\n",
       "    </tr>\n",
       "    <tr>\n",
       "      <th>1</th>\n",
       "      <td>1</td>\n",
       "      <td>0</td>\n",
       "    </tr>\n",
       "    <tr>\n",
       "      <th>2</th>\n",
       "      <td>1</td>\n",
       "      <td>0</td>\n",
       "    </tr>\n",
       "    <tr>\n",
       "      <th>3</th>\n",
       "      <td>1</td>\n",
       "      <td>0</td>\n",
       "    </tr>\n",
       "    <tr>\n",
       "      <th>4</th>\n",
       "      <td>1</td>\n",
       "      <td>0</td>\n",
       "    </tr>\n",
       "    <tr>\n",
       "      <th>...</th>\n",
       "      <td>...</td>\n",
       "      <td>...</td>\n",
       "    </tr>\n",
       "    <tr>\n",
       "      <th>18244</th>\n",
       "      <td>0</td>\n",
       "      <td>1</td>\n",
       "    </tr>\n",
       "    <tr>\n",
       "      <th>18245</th>\n",
       "      <td>0</td>\n",
       "      <td>1</td>\n",
       "    </tr>\n",
       "    <tr>\n",
       "      <th>18246</th>\n",
       "      <td>0</td>\n",
       "      <td>1</td>\n",
       "    </tr>\n",
       "    <tr>\n",
       "      <th>18247</th>\n",
       "      <td>0</td>\n",
       "      <td>1</td>\n",
       "    </tr>\n",
       "    <tr>\n",
       "      <th>18248</th>\n",
       "      <td>0</td>\n",
       "      <td>1</td>\n",
       "    </tr>\n",
       "  </tbody>\n",
       "</table>\n",
       "<p>18249 rows × 2 columns</p>\n",
       "</div>"
      ],
      "text/plain": [
       "       conventional  organic\n",
       "0                 1        0\n",
       "1                 1        0\n",
       "2                 1        0\n",
       "3                 1        0\n",
       "4                 1        0\n",
       "...             ...      ...\n",
       "18244             0        1\n",
       "18245             0        1\n",
       "18246             0        1\n",
       "18247             0        1\n",
       "18248             0        1\n",
       "\n",
       "[18249 rows x 2 columns]"
      ]
     },
     "execution_count": 114,
     "metadata": {},
     "output_type": "execute_result"
    }
   ],
   "source": [
    "#get decode the type col 0 and 1\n",
    "dummies=pd.get_dummies(avocado.type)\n",
    "dummies"
   ]
  },
  {
   "cell_type": "code",
   "execution_count": 115,
   "id": "d446228b",
   "metadata": {},
   "outputs": [
    {
     "data": {
      "text/html": [
       "<div>\n",
       "<style scoped>\n",
       "    .dataframe tbody tr th:only-of-type {\n",
       "        vertical-align: middle;\n",
       "    }\n",
       "\n",
       "    .dataframe tbody tr th {\n",
       "        vertical-align: top;\n",
       "    }\n",
       "\n",
       "    .dataframe thead th {\n",
       "        text-align: right;\n",
       "    }\n",
       "</style>\n",
       "<table border=\"1\" class=\"dataframe\">\n",
       "  <thead>\n",
       "    <tr style=\"text-align: right;\">\n",
       "      <th></th>\n",
       "      <th>Date</th>\n",
       "      <th>AveragePrice</th>\n",
       "      <th>Total Volume</th>\n",
       "      <th>PLU 4046 sold</th>\n",
       "      <th>PLU 4225 sold</th>\n",
       "      <th>PLU 4770 sold</th>\n",
       "      <th>Total Bags</th>\n",
       "      <th>Small Bags</th>\n",
       "      <th>Large Bags</th>\n",
       "      <th>XLarge Bags</th>\n",
       "      <th>type</th>\n",
       "      <th>year</th>\n",
       "      <th>region</th>\n",
       "      <th>conventional</th>\n",
       "      <th>organic</th>\n",
       "    </tr>\n",
       "  </thead>\n",
       "  <tbody>\n",
       "    <tr>\n",
       "      <th>0</th>\n",
       "      <td>2015-12-27</td>\n",
       "      <td>1.33</td>\n",
       "      <td>64236.62</td>\n",
       "      <td>1036.74</td>\n",
       "      <td>54454.85</td>\n",
       "      <td>48.16</td>\n",
       "      <td>8696.87</td>\n",
       "      <td>8603.62</td>\n",
       "      <td>93.25</td>\n",
       "      <td>0.0</td>\n",
       "      <td>conventional</td>\n",
       "      <td>2015</td>\n",
       "      <td>Albany</td>\n",
       "      <td>1</td>\n",
       "      <td>0</td>\n",
       "    </tr>\n",
       "    <tr>\n",
       "      <th>1</th>\n",
       "      <td>2015-12-20</td>\n",
       "      <td>1.35</td>\n",
       "      <td>54876.98</td>\n",
       "      <td>674.28</td>\n",
       "      <td>44638.81</td>\n",
       "      <td>58.33</td>\n",
       "      <td>9505.56</td>\n",
       "      <td>9408.07</td>\n",
       "      <td>97.49</td>\n",
       "      <td>0.0</td>\n",
       "      <td>conventional</td>\n",
       "      <td>2015</td>\n",
       "      <td>Albany</td>\n",
       "      <td>1</td>\n",
       "      <td>0</td>\n",
       "    </tr>\n",
       "    <tr>\n",
       "      <th>2</th>\n",
       "      <td>2015-12-13</td>\n",
       "      <td>0.93</td>\n",
       "      <td>118220.22</td>\n",
       "      <td>794.70</td>\n",
       "      <td>109149.67</td>\n",
       "      <td>130.50</td>\n",
       "      <td>8145.35</td>\n",
       "      <td>8042.21</td>\n",
       "      <td>103.14</td>\n",
       "      <td>0.0</td>\n",
       "      <td>conventional</td>\n",
       "      <td>2015</td>\n",
       "      <td>Albany</td>\n",
       "      <td>1</td>\n",
       "      <td>0</td>\n",
       "    </tr>\n",
       "    <tr>\n",
       "      <th>3</th>\n",
       "      <td>2015-12-06</td>\n",
       "      <td>1.08</td>\n",
       "      <td>78992.15</td>\n",
       "      <td>1132.00</td>\n",
       "      <td>71976.41</td>\n",
       "      <td>72.58</td>\n",
       "      <td>5811.16</td>\n",
       "      <td>5677.40</td>\n",
       "      <td>133.76</td>\n",
       "      <td>0.0</td>\n",
       "      <td>conventional</td>\n",
       "      <td>2015</td>\n",
       "      <td>Albany</td>\n",
       "      <td>1</td>\n",
       "      <td>0</td>\n",
       "    </tr>\n",
       "    <tr>\n",
       "      <th>4</th>\n",
       "      <td>2015-11-29</td>\n",
       "      <td>1.28</td>\n",
       "      <td>51039.60</td>\n",
       "      <td>941.48</td>\n",
       "      <td>43838.39</td>\n",
       "      <td>75.78</td>\n",
       "      <td>6183.95</td>\n",
       "      <td>5986.26</td>\n",
       "      <td>197.69</td>\n",
       "      <td>0.0</td>\n",
       "      <td>conventional</td>\n",
       "      <td>2015</td>\n",
       "      <td>Albany</td>\n",
       "      <td>1</td>\n",
       "      <td>0</td>\n",
       "    </tr>\n",
       "  </tbody>\n",
       "</table>\n",
       "</div>"
      ],
      "text/plain": [
       "         Date  AveragePrice  Total Volume  PLU 4046 sold  PLU 4225 sold  \\\n",
       "0  2015-12-27          1.33      64236.62        1036.74       54454.85   \n",
       "1  2015-12-20          1.35      54876.98         674.28       44638.81   \n",
       "2  2015-12-13          0.93     118220.22         794.70      109149.67   \n",
       "3  2015-12-06          1.08      78992.15        1132.00       71976.41   \n",
       "4  2015-11-29          1.28      51039.60         941.48       43838.39   \n",
       "\n",
       "   PLU 4770 sold  Total Bags  Small Bags  Large Bags  XLarge Bags  \\\n",
       "0          48.16     8696.87     8603.62       93.25          0.0   \n",
       "1          58.33     9505.56     9408.07       97.49          0.0   \n",
       "2         130.50     8145.35     8042.21      103.14          0.0   \n",
       "3          72.58     5811.16     5677.40      133.76          0.0   \n",
       "4          75.78     6183.95     5986.26      197.69          0.0   \n",
       "\n",
       "           type  year  region  conventional  organic  \n",
       "0  conventional  2015  Albany             1        0  \n",
       "1  conventional  2015  Albany             1        0  \n",
       "2  conventional  2015  Albany             1        0  \n",
       "3  conventional  2015  Albany             1        0  \n",
       "4  conventional  2015  Albany             1        0  "
      ]
     },
     "execution_count": 115,
     "metadata": {},
     "output_type": "execute_result"
    }
   ],
   "source": [
    "# merge the dummies into df\n",
    "avocado=pd.concat([avocado,dummies],axis=1)\n",
    "avocado.head()"
   ]
  },
  {
   "cell_type": "code",
   "execution_count": 153,
   "id": "90633c8c",
   "metadata": {},
   "outputs": [],
   "source": [
    "#drop the type col since we have created the separete column and date and regino col which is redundant\n",
    "avocado=avocado.drop(['type','Date','region'],axis=1)"
   ]
  },
  {
   "cell_type": "markdown",
   "id": "95cfbda2",
   "metadata": {},
   "source": [
    "# EDA"
   ]
  },
  {
   "cell_type": "code",
   "execution_count": 154,
   "id": "eaf5e1c6",
   "metadata": {},
   "outputs": [
    {
     "data": {
      "text/plain": [
       "AveragePrice     float64\n",
       "Total Volume     float64\n",
       "PLU 4046 sold    float64\n",
       "PLU 4225 sold    float64\n",
       "PLU 4770 sold    float64\n",
       "Total Bags       float64\n",
       "Small Bags       float64\n",
       "Large Bags       float64\n",
       "XLarge Bags      float64\n",
       "year               int64\n",
       "conventional       uint8\n",
       "organic            uint8\n",
       "dtype: object"
      ]
     },
     "execution_count": 154,
     "metadata": {},
     "output_type": "execute_result"
    }
   ],
   "source": [
    "avocado.dtypes"
   ]
  },
  {
   "cell_type": "code",
   "execution_count": 155,
   "id": "4eabc698",
   "metadata": {},
   "outputs": [],
   "source": [
    "# change datatypes of Conventional and organic\n",
    "avocado['conventional']=avocado['conventional'].astype('int')\n",
    "avocado['organic']=avocado['organic'].astype('int')"
   ]
  },
  {
   "cell_type": "code",
   "execution_count": 156,
   "id": "d261eb64",
   "metadata": {},
   "outputs": [
    {
     "data": {
      "text/plain": [
       "AveragePrice     float64\n",
       "Total Volume     float64\n",
       "PLU 4046 sold    float64\n",
       "PLU 4225 sold    float64\n",
       "PLU 4770 sold    float64\n",
       "Total Bags       float64\n",
       "Small Bags       float64\n",
       "Large Bags       float64\n",
       "XLarge Bags      float64\n",
       "year               int64\n",
       "conventional       int32\n",
       "organic            int32\n",
       "dtype: object"
      ]
     },
     "execution_count": 156,
     "metadata": {},
     "output_type": "execute_result"
    }
   ],
   "source": [
    "avocado.dtypes"
   ]
  },
  {
   "cell_type": "code",
   "execution_count": 119,
   "id": "eaac9097",
   "metadata": {},
   "outputs": [
    {
     "data": {
      "text/plain": [
       "<AxesSubplot:xlabel='type', ylabel='Count'>"
      ]
     },
     "execution_count": 119,
     "metadata": {},
     "output_type": "execute_result"
    },
    {
     "data": {
      "image/png": "[encoded data removed]",
      "text/plain": [
       "<Figure size 432x288 with 1 Axes>"
      ]
     },
     "metadata": {
      "needs_background": "light"
     },
     "output_type": "display_data"
    }
   ],
   "source": [
    "# check uniques values of type col and thier distribution\n",
    "import seaborn as sns\n",
    "sns.histplot(avocado['type'])\n",
    " #below hist explains that type is normaly distributed and no bias in it"
   ]
  },
  {
   "cell_type": "code",
   "execution_count": 120,
   "id": "fd7f830a",
   "metadata": {},
   "outputs": [],
   "source": [
    "#avocado['region'].value_counts()"
   ]
  },
  {
   "cell_type": "code",
   "execution_count": 121,
   "id": "217b434f",
   "metadata": {},
   "outputs": [
    {
     "data": {
      "text/plain": [
       "<AxesSubplot:xlabel='Small Bags', ylabel='AveragePrice'>"
      ]
     },
     "execution_count": 121,
     "metadata": {},
     "output_type": "execute_result"
    },
    {
     "data": {
      "image/png": "[encoded data removed]",
      "text/plain": [
       "<Figure size 432x288 with 1 Axes>"
      ]
     },
     "metadata": {
      "needs_background": "light"
     },
     "output_type": "display_data"
    }
   ],
   "source": [
    "# lets understrand the relationship bags vs average price.\n",
    "\n",
    "sns.scatterplot(avocado['Small Bags'],avocado['AveragePrice'])\n"
   ]
  },
  {
   "cell_type": "code",
   "execution_count": 122,
   "id": "332c6bf1",
   "metadata": {},
   "outputs": [
    {
     "data": {
      "text/plain": [
       "<AxesSubplot:xlabel='Large Bags', ylabel='AveragePrice'>"
      ]
     },
     "execution_count": 122,
     "metadata": {},
     "output_type": "execute_result"
    },
    {
     "data": {
      "image/png": "[encoded data removed]",
      "text/plain": [
       "<Figure size 432x288 with 1 Axes>"
      ]
     },
     "metadata": {
      "needs_background": "light"
     },
     "output_type": "display_data"
    }
   ],
   "source": [
    "\n",
    "sns.scatterplot(avocado['Large Bags'],avocado['AveragePrice'])"
   ]
  },
  {
   "cell_type": "code",
   "execution_count": 123,
   "id": "77c32f43",
   "metadata": {},
   "outputs": [
    {
     "data": {
      "text/plain": [
       "<AxesSubplot:xlabel='Large Bags', ylabel='AveragePrice'>"
      ]
     },
     "execution_count": 123,
     "metadata": {},
     "output_type": "execute_result"
    },
    {
     "data": {
      "image/png": "[encoded data removed]",
      "text/plain": [
       "<Figure size 432x288 with 1 Axes>"
      ]
     },
     "metadata": {
      "needs_background": "light"
     },
     "output_type": "display_data"
    }
   ],
   "source": [
    "sns.scatterplot(avocado['Large Bags'],avocado['AveragePrice'])"
   ]
  },
  {
   "cell_type": "markdown",
   "id": "def45e7a",
   "metadata": {},
   "source": [
    "from above plot the understanding is that, people are buying with 1 or 2 bags regardless of their size "
   ]
  },
  {
   "cell_type": "code",
   "execution_count": 124,
   "id": "7151be3f",
   "metadata": {},
   "outputs": [
    {
     "data": {
      "text/plain": [
       "<AxesSubplot:xlabel='XLarge Bags', ylabel='AveragePrice'>"
      ]
     },
     "execution_count": 124,
     "metadata": {},
     "output_type": "execute_result"
    },
    {
     "data": {
      "image/png": "[encoded data removed]",
      "text/plain": [
       "<Figure size 432x288 with 1 Axes>"
      ]
     },
     "metadata": {
      "needs_background": "light"
     },
     "output_type": "display_data"
    }
   ],
   "source": [
    "sns.scatterplot(avocado['XLarge Bags'],avocado['AveragePrice'])"
   ]
  },
  {
   "cell_type": "code",
   "execution_count": 125,
   "id": "59659225",
   "metadata": {},
   "outputs": [
    {
     "data": {
      "text/plain": [
       "<AxesSubplot:xlabel='year', ylabel='Count'>"
      ]
     },
     "execution_count": 125,
     "metadata": {},
     "output_type": "execute_result"
    },
    {
     "data": {
      "image/png": "[encoded data removed]",
      "text/plain": [
       "<Figure size 432x288 with 1 Axes>"
      ]
     },
     "metadata": {
      "needs_background": "light"
     },
     "output_type": "display_data"
    }
   ],
   "source": [
    "# yearwise sales\n",
    "sns.histplot(avocado['year'])\n",
    "\n"
   ]
  },
  {
   "cell_type": "markdown",
   "id": "de16e760",
   "metadata": {},
   "source": [
    "we can see that from 2015 to 2017 the sale is same every year but only in 2018 it has less sales and we will understand it in coming anaylis"
   ]
  },
  {
   "cell_type": "code",
   "execution_count": 126,
   "id": "db539fed",
   "metadata": {},
   "outputs": [
    {
     "data": {
      "text/plain": [
       "<AxesSubplot:xlabel='PLU 4046 sold', ylabel='AveragePrice'>"
      ]
     },
     "execution_count": 126,
     "metadata": {},
     "output_type": "execute_result"
    },
    {
     "data": {
      "image/png": "[encoded data removed]",
      "text/plain": [
       "<Figure size 432x288 with 1 Axes>"
      ]
     },
     "metadata": {
      "needs_background": "light"
     },
     "output_type": "display_data"
    }
   ],
   "source": [
    "# product sales PLU 4046 and avg prices\n",
    "sns.scatterplot(avocado['PLU 4046 sold'],avocado['AveragePrice'])\n"
   ]
  },
  {
   "cell_type": "code",
   "execution_count": 127,
   "id": "59c2628a",
   "metadata": {},
   "outputs": [
    {
     "data": {
      "text/plain": [
       "<AxesSubplot:xlabel='PLU 4225 sold', ylabel='AveragePrice'>"
      ]
     },
     "execution_count": 127,
     "metadata": {},
     "output_type": "execute_result"
    },
    {
     "data": {
      "image/png": "[encoded data removed]",
      "text/plain": [
       "<Figure size 432x288 with 1 Axes>"
      ]
     },
     "metadata": {
      "needs_background": "light"
     },
     "output_type": "display_data"
    }
   ],
   "source": [
    "sns.scatterplot(avocado['PLU 4225 sold'],avocado['AveragePrice'])"
   ]
  },
  {
   "cell_type": "code",
   "execution_count": 128,
   "id": "eaa4103c",
   "metadata": {},
   "outputs": [
    {
     "data": {
      "text/plain": [
       "<AxesSubplot:xlabel='PLU 4770 sold', ylabel='AveragePrice'>"
      ]
     },
     "execution_count": 128,
     "metadata": {},
     "output_type": "execute_result"
    },
    {
     "data": {
      "image/png": "[encoded data removed]",
      "text/plain": [
       "<Figure size 432x288 with 1 Axes>"
      ]
     },
     "metadata": {
      "needs_background": "light"
     },
     "output_type": "display_data"
    }
   ],
   "source": [
    "sns.scatterplot(avocado['PLU 4770 sold'],avocado['AveragePrice'])"
   ]
  },
  {
   "cell_type": "code",
   "execution_count": 129,
   "id": "ef4718d7",
   "metadata": {},
   "outputs": [
    {
     "data": {
      "text/plain": [
       "<AxesSubplot:xlabel='PLU 4770 sold', ylabel='Density'>"
      ]
     },
     "execution_count": 129,
     "metadata": {},
     "output_type": "execute_result"
    },
    {
     "data": {
      "image/png": "[encoded data removed]",
      "text/plain": [
       "<Figure size 432x288 with 1 Axes>"
      ]
     },
     "metadata": {
      "needs_background": "light"
     },
     "output_type": "display_data"
    }
   ],
   "source": [
    "sns.distplot(avocado['PLU 4770 sold'])"
   ]
  },
  {
   "cell_type": "code",
   "execution_count": 130,
   "id": "bb69b832",
   "metadata": {
    "scrolled": true
   },
   "outputs": [
    {
     "data": {
      "text/plain": [
       "conventional    -0.615845\n",
       "PLU 4046 sold   -0.208317\n",
       "Total Volume    -0.192752\n",
       "PLU 4770 sold   -0.179446\n",
       "Total Bags      -0.177088\n",
       "Small Bags      -0.174730\n",
       "Large Bags      -0.172940\n",
       "PLU 4225 sold   -0.172928\n",
       "XLarge Bags     -0.117592\n",
       "year             0.093197\n",
       "organic          0.615845\n",
       "AveragePrice     1.000000\n",
       "Name: AveragePrice, dtype: float64"
      ]
     },
     "execution_count": 130,
     "metadata": {},
     "output_type": "execute_result"
    }
   ],
   "source": [
    "# correlatrion b/w IV and DV\n",
    "avocado.corr()['AveragePrice'].sort_values()"
   ]
  },
  {
   "cell_type": "markdown",
   "id": "8d7d2de0",
   "metadata": {},
   "source": [
    "all the attribues are negatively corelated with target variable"
   ]
  },
  {
   "cell_type": "code",
   "execution_count": 131,
   "id": "ca71bdaf",
   "metadata": {},
   "outputs": [],
   "source": [
    "# correaltion on heatmap\n",
    "import matplotlib.pyplot as plt"
   ]
  },
  {
   "cell_type": "code",
   "execution_count": 132,
   "id": "c5229a28",
   "metadata": {},
   "outputs": [
    {
     "data": {
      "image/png": "[encoded data removed]",
      "text/plain": [
       "<Figure size 1080x360 with 2 Axes>"
      ]
     },
     "metadata": {
      "needs_background": "light"
     },
     "output_type": "display_data"
    }
   ],
   "source": [
    "# correaltion on heatmap\n",
    "plt.figure(figsize=(15,5))\n",
    "sns.heatmap(avocado.corr(),annot=True,linecolor='black',linewidths=0.5,fmt='0.2f')\n",
    "plt.show()"
   ]
  },
  {
   "cell_type": "markdown",
   "id": "2d00dbef",
   "metadata": {},
   "source": [
    "attributes are highly negatively correlated on target variable"
   ]
  },
  {
   "cell_type": "code",
   "execution_count": 133,
   "id": "0092dcf0",
   "metadata": {},
   "outputs": [
    {
     "data": {
      "text/html": [
       "<div>\n",
       "<style scoped>\n",
       "    .dataframe tbody tr th:only-of-type {\n",
       "        vertical-align: middle;\n",
       "    }\n",
       "\n",
       "    .dataframe tbody tr th {\n",
       "        vertical-align: top;\n",
       "    }\n",
       "\n",
       "    .dataframe thead th {\n",
       "        text-align: right;\n",
       "    }\n",
       "</style>\n",
       "<table border=\"1\" class=\"dataframe\">\n",
       "  <thead>\n",
       "    <tr style=\"text-align: right;\">\n",
       "      <th></th>\n",
       "      <th>AveragePrice</th>\n",
       "      <th>Total Volume</th>\n",
       "      <th>PLU 4046 sold</th>\n",
       "      <th>PLU 4225 sold</th>\n",
       "      <th>PLU 4770 sold</th>\n",
       "      <th>Total Bags</th>\n",
       "      <th>Small Bags</th>\n",
       "      <th>Large Bags</th>\n",
       "      <th>XLarge Bags</th>\n",
       "      <th>year</th>\n",
       "      <th>conventional</th>\n",
       "      <th>organic</th>\n",
       "    </tr>\n",
       "  </thead>\n",
       "  <tbody>\n",
       "    <tr>\n",
       "      <th>count</th>\n",
       "      <td>18249.000000</td>\n",
       "      <td>1.824900e+04</td>\n",
       "      <td>1.824900e+04</td>\n",
       "      <td>1.824900e+04</td>\n",
       "      <td>1.824900e+04</td>\n",
       "      <td>1.824900e+04</td>\n",
       "      <td>1.824900e+04</td>\n",
       "      <td>1.824900e+04</td>\n",
       "      <td>18249.000000</td>\n",
       "      <td>18249.000000</td>\n",
       "      <td>18249.000000</td>\n",
       "      <td>18249.000000</td>\n",
       "    </tr>\n",
       "    <tr>\n",
       "      <th>mean</th>\n",
       "      <td>1.405978</td>\n",
       "      <td>8.506440e+05</td>\n",
       "      <td>2.930084e+05</td>\n",
       "      <td>2.951546e+05</td>\n",
       "      <td>2.283974e+04</td>\n",
       "      <td>2.396392e+05</td>\n",
       "      <td>1.821947e+05</td>\n",
       "      <td>5.433809e+04</td>\n",
       "      <td>3106.426507</td>\n",
       "      <td>2016.147899</td>\n",
       "      <td>0.500082</td>\n",
       "      <td>0.499918</td>\n",
       "    </tr>\n",
       "    <tr>\n",
       "      <th>std</th>\n",
       "      <td>0.402677</td>\n",
       "      <td>3.453545e+06</td>\n",
       "      <td>1.264989e+06</td>\n",
       "      <td>1.204120e+06</td>\n",
       "      <td>1.074641e+05</td>\n",
       "      <td>9.862424e+05</td>\n",
       "      <td>7.461785e+05</td>\n",
       "      <td>2.439660e+05</td>\n",
       "      <td>17692.894652</td>\n",
       "      <td>0.939938</td>\n",
       "      <td>0.500014</td>\n",
       "      <td>0.500014</td>\n",
       "    </tr>\n",
       "    <tr>\n",
       "      <th>min</th>\n",
       "      <td>0.440000</td>\n",
       "      <td>8.456000e+01</td>\n",
       "      <td>0.000000e+00</td>\n",
       "      <td>0.000000e+00</td>\n",
       "      <td>0.000000e+00</td>\n",
       "      <td>0.000000e+00</td>\n",
       "      <td>0.000000e+00</td>\n",
       "      <td>0.000000e+00</td>\n",
       "      <td>0.000000</td>\n",
       "      <td>2015.000000</td>\n",
       "      <td>0.000000</td>\n",
       "      <td>0.000000</td>\n",
       "    </tr>\n",
       "    <tr>\n",
       "      <th>25%</th>\n",
       "      <td>1.100000</td>\n",
       "      <td>1.083858e+04</td>\n",
       "      <td>8.540700e+02</td>\n",
       "      <td>3.008780e+03</td>\n",
       "      <td>0.000000e+00</td>\n",
       "      <td>5.088640e+03</td>\n",
       "      <td>2.849420e+03</td>\n",
       "      <td>1.274700e+02</td>\n",
       "      <td>0.000000</td>\n",
       "      <td>2015.000000</td>\n",
       "      <td>0.000000</td>\n",
       "      <td>0.000000</td>\n",
       "    </tr>\n",
       "    <tr>\n",
       "      <th>50%</th>\n",
       "      <td>1.370000</td>\n",
       "      <td>1.073768e+05</td>\n",
       "      <td>8.645300e+03</td>\n",
       "      <td>2.906102e+04</td>\n",
       "      <td>1.849900e+02</td>\n",
       "      <td>3.974383e+04</td>\n",
       "      <td>2.636282e+04</td>\n",
       "      <td>2.647710e+03</td>\n",
       "      <td>0.000000</td>\n",
       "      <td>2016.000000</td>\n",
       "      <td>1.000000</td>\n",
       "      <td>0.000000</td>\n",
       "    </tr>\n",
       "    <tr>\n",
       "      <th>75%</th>\n",
       "      <td>1.660000</td>\n",
       "      <td>4.329623e+05</td>\n",
       "      <td>1.110202e+05</td>\n",
       "      <td>1.502069e+05</td>\n",
       "      <td>6.243420e+03</td>\n",
       "      <td>1.107834e+05</td>\n",
       "      <td>8.333767e+04</td>\n",
       "      <td>2.202925e+04</td>\n",
       "      <td>132.500000</td>\n",
       "      <td>2017.000000</td>\n",
       "      <td>1.000000</td>\n",
       "      <td>1.000000</td>\n",
       "    </tr>\n",
       "    <tr>\n",
       "      <th>max</th>\n",
       "      <td>3.250000</td>\n",
       "      <td>6.250565e+07</td>\n",
       "      <td>2.274362e+07</td>\n",
       "      <td>2.047057e+07</td>\n",
       "      <td>2.546439e+06</td>\n",
       "      <td>1.937313e+07</td>\n",
       "      <td>1.338459e+07</td>\n",
       "      <td>5.719097e+06</td>\n",
       "      <td>551693.650000</td>\n",
       "      <td>2018.000000</td>\n",
       "      <td>1.000000</td>\n",
       "      <td>1.000000</td>\n",
       "    </tr>\n",
       "  </tbody>\n",
       "</table>\n",
       "</div>"
      ],
      "text/plain": [
       "       AveragePrice  Total Volume  PLU 4046 sold  PLU 4225 sold  \\\n",
       "count  18249.000000  1.824900e+04   1.824900e+04   1.824900e+04   \n",
       "mean       1.405978  8.506440e+05   2.930084e+05   2.951546e+05   \n",
       "std        0.402677  3.453545e+06   1.264989e+06   1.204120e+06   \n",
       "min        0.440000  8.456000e+01   0.000000e+00   0.000000e+00   \n",
       "25%        1.100000  1.083858e+04   8.540700e+02   3.008780e+03   \n",
       "50%        1.370000  1.073768e+05   8.645300e+03   2.906102e+04   \n",
       "75%        1.660000  4.329623e+05   1.110202e+05   1.502069e+05   \n",
       "max        3.250000  6.250565e+07   2.274362e+07   2.047057e+07   \n",
       "\n",
       "       PLU 4770 sold    Total Bags    Small Bags    Large Bags    XLarge Bags  \\\n",
       "count   1.824900e+04  1.824900e+04  1.824900e+04  1.824900e+04   18249.000000   \n",
       "mean    2.283974e+04  2.396392e+05  1.821947e+05  5.433809e+04    3106.426507   \n",
       "std     1.074641e+05  9.862424e+05  7.461785e+05  2.439660e+05   17692.894652   \n",
       "min     0.000000e+00  0.000000e+00  0.000000e+00  0.000000e+00       0.000000   \n",
       "25%     0.000000e+00  5.088640e+03  2.849420e+03  1.274700e+02       0.000000   \n",
       "50%     1.849900e+02  3.974383e+04  2.636282e+04  2.647710e+03       0.000000   \n",
       "75%     6.243420e+03  1.107834e+05  8.333767e+04  2.202925e+04     132.500000   \n",
       "max     2.546439e+06  1.937313e+07  1.338459e+07  5.719097e+06  551693.650000   \n",
       "\n",
       "               year  conventional       organic  \n",
       "count  18249.000000  18249.000000  18249.000000  \n",
       "mean    2016.147899      0.500082      0.499918  \n",
       "std        0.939938      0.500014      0.500014  \n",
       "min     2015.000000      0.000000      0.000000  \n",
       "25%     2015.000000      0.000000      0.000000  \n",
       "50%     2016.000000      1.000000      0.000000  \n",
       "75%     2017.000000      1.000000      1.000000  \n",
       "max     2018.000000      1.000000      1.000000  "
      ]
     },
     "execution_count": 133,
     "metadata": {},
     "output_type": "execute_result"
    }
   ],
   "source": [
    "# describe dataframe\n",
    "avocado.describe()"
   ]
  },
  {
   "cell_type": "markdown",
   "id": "47d485b2",
   "metadata": {},
   "source": [
    "Outlier checking:"
   ]
  },
  {
   "cell_type": "code",
   "execution_count": 134,
   "id": "61a4e1dd",
   "metadata": {},
   "outputs": [],
   "source": [
    "import warnings\n",
    "warnings.filterwarnings('ignore')\n",
    "from scipy.stats import skew"
   ]
  },
  {
   "cell_type": "code",
   "execution_count": 139,
   "id": "3b8c78c4",
   "metadata": {},
   "outputs": [
    {
     "data": {
      "text/plain": [
       "{'whiskers': [<matplotlib.lines.Line2D at 0x18dca0284c0>,\n",
       "  <matplotlib.lines.Line2D at 0x18dca02deb0>],\n",
       " 'caps': [<matplotlib.lines.Line2D at 0x18dca02fd60>,\n",
       "  <matplotlib.lines.Line2D at 0x18dca031430>],\n",
       " 'boxes': [<matplotlib.lines.Line2D at 0x18dca02b3a0>],\n",
       " 'medians': [<matplotlib.lines.Line2D at 0x18dca031730>],\n",
       " 'fliers': [<matplotlib.lines.Line2D at 0x18dca032100>],\n",
       " 'means': []}"
      ]
     },
     "execution_count": 139,
     "metadata": {},
     "output_type": "execute_result"
    },
    {
     "data": {
      "image/png": "[encoded data removed]",
      "text/plain": [
       "<Figure size 432x288 with 1 Axes>"
      ]
     },
     "metadata": {
      "needs_background": "light"
     },
     "output_type": "display_data"
    }
   ],
   "source": [
    "# using boxplot will check the outlier\n",
    "plt.boxplot(avocado['PLU 4046 sold'],vert=False)"
   ]
  },
  {
   "cell_type": "code",
   "execution_count": 140,
   "id": "43edd1a4",
   "metadata": {},
   "outputs": [
    {
     "data": {
      "text/plain": [
       "{'whiskers': [<matplotlib.lines.Line2D at 0x18dca167b20>,\n",
       "  <matplotlib.lines.Line2D at 0x18dca167eb0>],\n",
       " 'caps': [<matplotlib.lines.Line2D at 0x18dca170280>,\n",
       "  <matplotlib.lines.Line2D at 0x18dca170610>],\n",
       " 'boxes': [<matplotlib.lines.Line2D at 0x18dca167790>],\n",
       " 'medians': [<matplotlib.lines.Line2D at 0x18dca1709a0>],\n",
       " 'fliers': [<matplotlib.lines.Line2D at 0x18dca170d30>],\n",
       " 'means': []}"
      ]
     },
     "execution_count": 140,
     "metadata": {},
     "output_type": "execute_result"
    },
    {
     "data": {
      "image/png": "[encoded data removed]",
      "text/plain": [
       "<Figure size 432x288 with 1 Axes>"
      ]
     },
     "metadata": {
      "needs_background": "light"
     },
     "output_type": "display_data"
    }
   ],
   "source": [
    "plt.boxplot(avocado['PLU 4225 sold'],vert=False)"
   ]
  },
  {
   "cell_type": "code",
   "execution_count": 141,
   "id": "5903c171",
   "metadata": {},
   "outputs": [
    {
     "data": {
      "text/plain": [
       "{'whiskers': [<matplotlib.lines.Line2D at 0x18dcd1ef880>,\n",
       "  <matplotlib.lines.Line2D at 0x18dcd1efc10>],\n",
       " 'caps': [<matplotlib.lines.Line2D at 0x18dcd1effa0>,\n",
       "  <matplotlib.lines.Line2D at 0x18dcd1f9370>],\n",
       " 'boxes': [<matplotlib.lines.Line2D at 0x18dcd1ef4f0>],\n",
       " 'medians': [<matplotlib.lines.Line2D at 0x18dcd1f9700>],\n",
       " 'fliers': [<matplotlib.lines.Line2D at 0x18dcd1f9a90>],\n",
       " 'means': []}"
      ]
     },
     "execution_count": 141,
     "metadata": {},
     "output_type": "execute_result"
    },
    {
     "data": {
      "image/png": "[encoded data removed]",
      "text/plain": [
       "<Figure size 432x288 with 1 Axes>"
      ]
     },
     "metadata": {
      "needs_background": "light"
     },
     "output_type": "display_data"
    }
   ],
   "source": [
    "plt.boxplot(avocado['PLU 4770 sold'],vert=False)"
   ]
  },
  {
   "cell_type": "markdown",
   "id": "ac7d04b3",
   "metadata": {},
   "source": [
    "Skewness:"
   ]
  },
  {
   "cell_type": "code",
   "execution_count": 142,
   "id": "9b80ce2c",
   "metadata": {},
   "outputs": [
    {
     "data": {
      "text/plain": [
       "AveragePrice      0.580303\n",
       "Total Volume      9.007687\n",
       "PLU 4046 sold     8.648220\n",
       "PLU 4225 sold     8.942466\n",
       "PLU 4770 sold    10.159396\n",
       "Total Bags        9.756072\n",
       "Small Bags        9.540660\n",
       "Large Bags        9.796455\n",
       "XLarge Bags      13.139751\n",
       "year              0.215339\n",
       "conventional     -0.000329\n",
       "organic           0.000329\n",
       "dtype: float64"
      ]
     },
     "execution_count": 142,
     "metadata": {},
     "output_type": "execute_result"
    }
   ],
   "source": [
    "avocado.skew()"
   ]
  },
  {
   "cell_type": "markdown",
   "id": "aeab1340",
   "metadata": {},
   "source": [
    "except conventional and organic col other col has the outlier presents and all them are right skwed and will see few col in graph to understand better\n"
   ]
  },
  {
   "cell_type": "code",
   "execution_count": 144,
   "id": "b75cdde1",
   "metadata": {},
   "outputs": [
    {
     "data": {
      "text/plain": [
       "<AxesSubplot:xlabel='PLU 4046 sold', ylabel='Density'>"
      ]
     },
     "execution_count": 144,
     "metadata": {},
     "output_type": "execute_result"
    },
    {
     "data": {
      "image/png": "[encoded data removed]",
      "text/plain": [
       "<Figure size 432x288 with 1 Axes>"
      ]
     },
     "metadata": {
      "needs_background": "light"
     },
     "output_type": "display_data"
    }
   ],
   "source": [
    "# plotting the skewed cols\n",
    "sns.distplot(avocado['PLU 4046 sold'])"
   ]
  },
  {
   "cell_type": "code",
   "execution_count": 145,
   "id": "07952ec6",
   "metadata": {},
   "outputs": [
    {
     "data": {
      "text/plain": [
       "<AxesSubplot:xlabel='PLU 4225 sold', ylabel='Density'>"
      ]
     },
     "execution_count": 145,
     "metadata": {},
     "output_type": "execute_result"
    },
    {
     "data": {
      "image/png": "[encoded data removed]",
      "text/plain": [
       "<Figure size 432x288 with 1 Axes>"
      ]
     },
     "metadata": {
      "needs_background": "light"
     },
     "output_type": "display_data"
    }
   ],
   "source": [
    "sns.distplot(avocado['PLU 4225 sold'])"
   ]
  },
  {
   "cell_type": "code",
   "execution_count": 146,
   "id": "d464d523",
   "metadata": {},
   "outputs": [
    {
     "data": {
      "text/plain": [
       "<AxesSubplot:xlabel='PLU 4770 sold', ylabel='Density'>"
      ]
     },
     "execution_count": 146,
     "metadata": {},
     "output_type": "execute_result"
    },
    {
     "data": {
      "image/png": "[encoded data removed]",
      "text/plain": [
       "<Figure size 432x288 with 1 Axes>"
      ]
     },
     "metadata": {
      "needs_background": "light"
     },
     "output_type": "display_data"
    }
   ],
   "source": [
    "sns.distplot(avocado['PLU 4770 sold'])"
   ]
  },
  {
   "cell_type": "code",
   "execution_count": null,
   "id": "4fabb6c2",
   "metadata": {},
   "outputs": [],
   "source": [
    "# consider only numberic col to get the z score\n",
    "avocado_n=avocado.drop(avocado[''])"
   ]
  },
  {
   "cell_type": "code",
   "execution_count": 165,
   "id": "aa7d2b92",
   "metadata": {},
   "outputs": [
    {
     "data": {
      "text/html": [
       "<div>\n",
       "<style scoped>\n",
       "    .dataframe tbody tr th:only-of-type {\n",
       "        vertical-align: middle;\n",
       "    }\n",
       "\n",
       "    .dataframe tbody tr th {\n",
       "        vertical-align: top;\n",
       "    }\n",
       "\n",
       "    .dataframe thead th {\n",
       "        text-align: right;\n",
       "    }\n",
       "</style>\n",
       "<table border=\"1\" class=\"dataframe\">\n",
       "  <thead>\n",
       "    <tr style=\"text-align: right;\">\n",
       "      <th></th>\n",
       "      <th>AveragePrice</th>\n",
       "      <th>Total Volume</th>\n",
       "      <th>PLU 4046 sold</th>\n",
       "      <th>PLU 4225 sold</th>\n",
       "      <th>PLU 4770 sold</th>\n",
       "      <th>Total Bags</th>\n",
       "      <th>Small Bags</th>\n",
       "      <th>Large Bags</th>\n",
       "      <th>XLarge Bags</th>\n",
       "      <th>year</th>\n",
       "      <th>conventional</th>\n",
       "      <th>organic</th>\n",
       "    </tr>\n",
       "  </thead>\n",
       "  <tbody>\n",
       "    <tr>\n",
       "      <th>0</th>\n",
       "      <td>0.188689</td>\n",
       "      <td>0.227716</td>\n",
       "      <td>0.230816</td>\n",
       "      <td>0.199902</td>\n",
       "      <td>0.212091</td>\n",
       "      <td>0.234170</td>\n",
       "      <td>0.232647</td>\n",
       "      <td>0.222352</td>\n",
       "      <td>0.17558</td>\n",
       "      <td>1.221282</td>\n",
       "      <td>0.999836</td>\n",
       "      <td>0.999836</td>\n",
       "    </tr>\n",
       "    <tr>\n",
       "      <th>1</th>\n",
       "      <td>0.139020</td>\n",
       "      <td>0.230427</td>\n",
       "      <td>0.231103</td>\n",
       "      <td>0.208054</td>\n",
       "      <td>0.211997</td>\n",
       "      <td>0.233350</td>\n",
       "      <td>0.231568</td>\n",
       "      <td>0.222335</td>\n",
       "      <td>0.17558</td>\n",
       "      <td>1.221282</td>\n",
       "      <td>0.999836</td>\n",
       "      <td>0.999836</td>\n",
       "    </tr>\n",
       "    <tr>\n",
       "      <th>2</th>\n",
       "      <td>1.182069</td>\n",
       "      <td>0.212085</td>\n",
       "      <td>0.231007</td>\n",
       "      <td>0.154478</td>\n",
       "      <td>0.211325</td>\n",
       "      <td>0.234730</td>\n",
       "      <td>0.233399</td>\n",
       "      <td>0.222311</td>\n",
       "      <td>0.17558</td>\n",
       "      <td>1.221282</td>\n",
       "      <td>0.999836</td>\n",
       "      <td>0.999836</td>\n",
       "    </tr>\n",
       "    <tr>\n",
       "      <th>3</th>\n",
       "      <td>0.809551</td>\n",
       "      <td>0.223444</td>\n",
       "      <td>0.230741</td>\n",
       "      <td>0.185350</td>\n",
       "      <td>0.211864</td>\n",
       "      <td>0.237096</td>\n",
       "      <td>0.236568</td>\n",
       "      <td>0.222186</td>\n",
       "      <td>0.17558</td>\n",
       "      <td>1.221282</td>\n",
       "      <td>0.999836</td>\n",
       "      <td>0.999836</td>\n",
       "    </tr>\n",
       "    <tr>\n",
       "      <th>4</th>\n",
       "      <td>0.312861</td>\n",
       "      <td>0.231538</td>\n",
       "      <td>0.230891</td>\n",
       "      <td>0.208719</td>\n",
       "      <td>0.211834</td>\n",
       "      <td>0.236718</td>\n",
       "      <td>0.236154</td>\n",
       "      <td>0.221924</td>\n",
       "      <td>0.17558</td>\n",
       "      <td>1.221282</td>\n",
       "      <td>0.999836</td>\n",
       "      <td>0.999836</td>\n",
       "    </tr>\n",
       "    <tr>\n",
       "      <th>...</th>\n",
       "      <td>...</td>\n",
       "      <td>...</td>\n",
       "      <td>...</td>\n",
       "      <td>...</td>\n",
       "      <td>...</td>\n",
       "      <td>...</td>\n",
       "      <td>...</td>\n",
       "      <td>...</td>\n",
       "      <td>...</td>\n",
       "      <td>...</td>\n",
       "      <td>...</td>\n",
       "      <td>...</td>\n",
       "    </tr>\n",
       "    <tr>\n",
       "      <th>18244</th>\n",
       "      <td>0.556347</td>\n",
       "      <td>0.241373</td>\n",
       "      <td>0.230017</td>\n",
       "      <td>0.243857</td>\n",
       "      <td>0.212540</td>\n",
       "      <td>0.229301</td>\n",
       "      <td>0.226665</td>\n",
       "      <td>0.220964</td>\n",
       "      <td>0.17558</td>\n",
       "      <td>1.970504</td>\n",
       "      <td>1.000164</td>\n",
       "      <td>1.000164</td>\n",
       "    </tr>\n",
       "    <tr>\n",
       "      <th>18245</th>\n",
       "      <td>0.755023</td>\n",
       "      <td>0.242296</td>\n",
       "      <td>0.230693</td>\n",
       "      <td>0.242277</td>\n",
       "      <td>0.212540</td>\n",
       "      <td>0.233594</td>\n",
       "      <td>0.232196</td>\n",
       "      <td>0.221403</td>\n",
       "      <td>0.17558</td>\n",
       "      <td>1.970504</td>\n",
       "      <td>1.000164</td>\n",
       "      <td>1.000164</td>\n",
       "    </tr>\n",
       "    <tr>\n",
       "      <th>18246</th>\n",
       "      <td>1.152375</td>\n",
       "      <td>0.242331</td>\n",
       "      <td>0.230693</td>\n",
       "      <td>0.243090</td>\n",
       "      <td>0.205766</td>\n",
       "      <td>0.233463</td>\n",
       "      <td>0.231644</td>\n",
       "      <td>0.222561</td>\n",
       "      <td>0.17558</td>\n",
       "      <td>1.970504</td>\n",
       "      <td>1.000164</td>\n",
       "      <td>1.000164</td>\n",
       "    </tr>\n",
       "    <tr>\n",
       "      <th>18247</th>\n",
       "      <td>1.301382</td>\n",
       "      <td>0.241625</td>\n",
       "      <td>0.230428</td>\n",
       "      <td>0.242651</td>\n",
       "      <td>0.205774</td>\n",
       "      <td>0.231866</td>\n",
       "      <td>0.229543</td>\n",
       "      <td>0.222529</td>\n",
       "      <td>0.17558</td>\n",
       "      <td>1.970504</td>\n",
       "      <td>1.000164</td>\n",
       "      <td>1.000164</td>\n",
       "    </tr>\n",
       "    <tr>\n",
       "      <th>18248</th>\n",
       "      <td>0.531512</td>\n",
       "      <td>0.241253</td>\n",
       "      <td>0.229347</td>\n",
       "      <td>0.243170</td>\n",
       "      <td>0.210450</td>\n",
       "      <td>0.230807</td>\n",
       "      <td>0.228111</td>\n",
       "      <td>0.222628</td>\n",
       "      <td>0.17558</td>\n",
       "      <td>1.970504</td>\n",
       "      <td>1.000164</td>\n",
       "      <td>1.000164</td>\n",
       "    </tr>\n",
       "  </tbody>\n",
       "</table>\n",
       "<p>18249 rows × 12 columns</p>\n",
       "</div>"
      ],
      "text/plain": [
       "       AveragePrice  Total Volume  PLU 4046 sold  PLU 4225 sold  \\\n",
       "0          0.188689      0.227716       0.230816       0.199902   \n",
       "1          0.139020      0.230427       0.231103       0.208054   \n",
       "2          1.182069      0.212085       0.231007       0.154478   \n",
       "3          0.809551      0.223444       0.230741       0.185350   \n",
       "4          0.312861      0.231538       0.230891       0.208719   \n",
       "...             ...           ...            ...            ...   \n",
       "18244      0.556347      0.241373       0.230017       0.243857   \n",
       "18245      0.755023      0.242296       0.230693       0.242277   \n",
       "18246      1.152375      0.242331       0.230693       0.243090   \n",
       "18247      1.301382      0.241625       0.230428       0.242651   \n",
       "18248      0.531512      0.241253       0.229347       0.243170   \n",
       "\n",
       "       PLU 4770 sold  Total Bags  Small Bags  Large Bags  XLarge Bags  \\\n",
       "0           0.212091    0.234170    0.232647    0.222352      0.17558   \n",
       "1           0.211997    0.233350    0.231568    0.222335      0.17558   \n",
       "2           0.211325    0.234730    0.233399    0.222311      0.17558   \n",
       "3           0.211864    0.237096    0.236568    0.222186      0.17558   \n",
       "4           0.211834    0.236718    0.236154    0.221924      0.17558   \n",
       "...              ...         ...         ...         ...          ...   \n",
       "18244       0.212540    0.229301    0.226665    0.220964      0.17558   \n",
       "18245       0.212540    0.233594    0.232196    0.221403      0.17558   \n",
       "18246       0.205766    0.233463    0.231644    0.222561      0.17558   \n",
       "18247       0.205774    0.231866    0.229543    0.222529      0.17558   \n",
       "18248       0.210450    0.230807    0.228111    0.222628      0.17558   \n",
       "\n",
       "           year  conventional   organic  \n",
       "0      1.221282      0.999836  0.999836  \n",
       "1      1.221282      0.999836  0.999836  \n",
       "2      1.221282      0.999836  0.999836  \n",
       "3      1.221282      0.999836  0.999836  \n",
       "4      1.221282      0.999836  0.999836  \n",
       "...         ...           ...       ...  \n",
       "18244  1.970504      1.000164  1.000164  \n",
       "18245  1.970504      1.000164  1.000164  \n",
       "18246  1.970504      1.000164  1.000164  \n",
       "18247  1.970504      1.000164  1.000164  \n",
       "18248  1.970504      1.000164  1.000164  \n",
       "\n",
       "[18249 rows x 12 columns]"
      ]
     },
     "execution_count": 165,
     "metadata": {},
     "output_type": "execute_result"
    }
   ],
   "source": [
    "# identify the outliers using zscore technique\n",
    "from scipy.stats import zscore\n",
    "import numpy as np \n",
    "\n",
    "z=np.abs(zscore(avocado))\n",
    "z"
   ]
  },
  {
   "cell_type": "code",
   "execution_count": 178,
   "id": "67922c7a",
   "metadata": {},
   "outputs": [
    {
     "data": {
      "text/plain": [
       "(18249, 12)"
      ]
     },
     "execution_count": 178,
     "metadata": {},
     "output_type": "execute_result"
    }
   ],
   "source": [
    "z.shape"
   ]
  },
  {
   "cell_type": "code",
   "execution_count": 170,
   "id": "2d923308",
   "metadata": {},
   "outputs": [
    {
     "name": "stdout",
     "output_type": "stream",
     "text": [
      "(array([  346,   359,   780, ..., 17304, 17402, 17428], dtype=int64), array([2, 2, 8, ..., 0, 0, 0], dtype=int64))\n"
     ]
    }
   ],
   "source": [
    "thresold=3\n",
    "print(np.where(z>3))"
   ]
  },
  {
   "cell_type": "code",
   "execution_count": 183,
   "id": "6038ea0d",
   "metadata": {},
   "outputs": [
    {
     "data": {
      "text/plain": [
       "AveragePrice           0.85\n",
       "Total Volume     9032180.67\n",
       "PLU 4046 sold    4794142.14\n",
       "PLU 4225 sold    3460743.80\n",
       "PLU 4770 sold     177145.49\n",
       "Total Bags        600149.24\n",
       "Small Bags        556205.20\n",
       "Large Bags         41203.20\n",
       "XLarge Bags         2740.84\n",
       "year                2015.00\n",
       "conventional           1.00\n",
       "organic                0.00\n",
       "Name: 359, dtype: float64"
      ]
     },
     "execution_count": 183,
     "metadata": {},
     "output_type": "execute_result"
    }
   ],
   "source": [
    "avocado.iloc[359]"
   ]
  },
  {
   "cell_type": "code",
   "execution_count": 184,
   "id": "e94942e2",
   "metadata": {},
   "outputs": [
    {
     "data": {
      "text/plain": [
       "array([  346,   359,   780, ..., 17304, 17402, 17428], dtype=int64)"
      ]
     },
     "execution_count": 184,
     "metadata": {},
     "output_type": "execute_result"
    }
   ],
   "source": [
    "np.where(z>3)[0]"
   ]
  },
  {
   "cell_type": "code",
   "execution_count": 172,
   "id": "2906331c",
   "metadata": {},
   "outputs": [
    {
     "data": {
      "text/plain": [
       "(18249, 12)"
      ]
     },
     "execution_count": 172,
     "metadata": {},
     "output_type": "execute_result"
    }
   ],
   "source": [
    "avocado.shape"
   ]
  },
  {
   "cell_type": "code",
   "execution_count": 185,
   "id": "e3f5267a",
   "metadata": {},
   "outputs": [],
   "source": [
    "# drop outliers \n",
    "df_new=avocado[(z<3).all(axis=1)]"
   ]
  },
  {
   "cell_type": "code",
   "execution_count": 186,
   "id": "3d638a57",
   "metadata": {},
   "outputs": [
    {
     "data": {
      "text/plain": [
       "(17651, 12)"
      ]
     },
     "execution_count": 186,
     "metadata": {},
     "output_type": "execute_result"
    }
   ],
   "source": [
    "df_new.shape"
   ]
  },
  {
   "cell_type": "code",
   "execution_count": 188,
   "id": "f8554914",
   "metadata": {},
   "outputs": [
    {
     "data": {
      "text/plain": [
       "3.276891884486821"
      ]
     },
     "execution_count": 188,
     "metadata": {},
     "output_type": "execute_result"
    }
   ],
   "source": [
    "# check the data loss\n",
    "data_loss=(18249-17651)/18249*100\n",
    "data_loss"
   ]
  },
  {
   "cell_type": "code",
   "execution_count": 196,
   "id": "fafa86ca",
   "metadata": {},
   "outputs": [
    {
     "name": "stdout",
     "output_type": "stream",
     "text": [
      "(17651, 11)\n",
      "(17651,)\n"
     ]
    }
   ],
   "source": [
    "# now data is ready for modeling and as mentioned in the ask i will be building 2 model regression which is linearregression since its outcome AveragePrice is continuous\n",
    "x=df_new.drop(['AveragePrice'],axis=1)\n",
    "print(x.shape)\n",
    "y=df_new['AveragePrice']\n",
    "print(y.shape)"
   ]
  },
  {
   "cell_type": "markdown",
   "id": "05b9225b",
   "metadata": {},
   "source": [
    "transforming data to removed skewness"
   ]
  },
  {
   "cell_type": "code",
   "execution_count": 197,
   "id": "c6746b77",
   "metadata": {},
   "outputs": [],
   "source": [
    "from sklearn.preprocessing import power_transform\n",
    "x=power_transform(x,method='yeo-johnson')"
   ]
  },
  {
   "cell_type": "code",
   "execution_count": 200,
   "id": "de6ab120",
   "metadata": {},
   "outputs": [
    {
     "data": {
      "text/plain": [
       "array([[-0.07532391, -0.65742071,  0.35142978, ..., -1.2106467 ,\n",
       "         1.01904715, -1.01904715],\n",
       "       [-0.14749743, -0.77717852,  0.26951276, ..., -1.2106467 ,\n",
       "         1.01904715, -1.01904715],\n",
       "       [ 0.20555557, -0.7317763 ,  0.64933326, ..., -1.2106467 ,\n",
       "         1.01904715, -1.01904715],\n",
       "       ...,\n",
       "       [-0.77527398, -0.61796649, -0.77889327, ...,  1.97870686,\n",
       "        -0.98130886,  0.98130886],\n",
       "       [-0.70179733, -0.54701087, -0.71637127, ...,  1.97870686,\n",
       "        -0.98130886,  0.98130886],\n",
       "       [-0.66738095, -0.35967077, -0.79165015, ...,  1.97870686,\n",
       "        -0.98130886,  0.98130886]])"
      ]
     },
     "execution_count": 200,
     "metadata": {},
     "output_type": "execute_result"
    }
   ],
   "source": [
    "x"
   ]
  },
  {
   "cell_type": "code",
   "execution_count": 201,
   "id": "8cb522b9",
   "metadata": {},
   "outputs": [
    {
     "data": {
      "text/plain": [
       "array([[-0.07532391, -0.65742071,  0.35142978, ..., -1.21061818,\n",
       "         1.01904715, -1.01904715],\n",
       "       [-0.14749743, -0.77717852,  0.26951276, ..., -1.21061818,\n",
       "         1.01904715, -1.01904715],\n",
       "       [ 0.20555557, -0.7317763 ,  0.64933326, ..., -1.21061818,\n",
       "         1.01904715, -1.01904715],\n",
       "       ...,\n",
       "       [-0.77527398, -0.61796649, -0.77889327, ...,  1.97873539,\n",
       "        -0.98130886,  0.98130886],\n",
       "       [-0.70179733, -0.54701087, -0.71637127, ...,  1.97873539,\n",
       "        -0.98130886,  0.98130886],\n",
       "       [-0.66738095, -0.35967077, -0.79165015, ...,  1.97873539,\n",
       "        -0.98130886,  0.98130886]])"
      ]
     },
     "execution_count": 201,
     "metadata": {},
     "output_type": "execute_result"
    }
   ],
   "source": [
    "# normalise the data\n",
    "from sklearn.preprocessing import StandardScaler\n",
    "sc=StandardScaler()\n",
    "x=sc.fit_transform(x)\n",
    "x"
   ]
  },
  {
   "cell_type": "code",
   "execution_count": 203,
   "id": "2915f231",
   "metadata": {},
   "outputs": [],
   "source": [
    "# 1.since we have target variable as continuous we will build the linear regression to predict AveragePrice\n",
    "from sklearn.linear_model import LinearRegression\n",
    "lr=LinearRegression()\n",
    "from sklearn.model_selection import train_test_split\n",
    "from sklearn.metrics import r2_score\n",
    "import warnings\n",
    "warnings.filterwarnings('ignore')"
   ]
  },
  {
   "cell_type": "code",
   "execution_count": 206,
   "id": "d178e2ac",
   "metadata": {},
   "outputs": [
    {
     "name": "stdout",
     "output_type": "stream",
     "text": [
      "at random state 0,the training acurracy is:-0.5294459665314238\n",
      "at random state 0,the test acurracy is:-0.5193435911418043\n",
      "\n",
      "\n",
      "at random state 1,the training acurracy is:-0.5265475982894345\n",
      "at random state 1,the test acurracy is:-0.5261607049692987\n",
      "\n",
      "\n",
      "at random state 2,the training acurracy is:-0.5312840760201228\n",
      "at random state 2,the test acurracy is:-0.5148400561970855\n",
      "\n",
      "\n",
      "at random state 3,the training acurracy is:-0.5252504974426573\n",
      "at random state 3,the test acurracy is:-0.5291279231272432\n",
      "\n",
      "\n",
      "at random state 4,the training acurracy is:-0.5263326637976695\n",
      "at random state 4,the test acurracy is:-0.5266885323918052\n",
      "\n",
      "\n",
      "at random state 5,the training acurracy is:-0.5195660084009497\n",
      "at random state 5,the test acurracy is:-0.5422019238732918\n",
      "\n",
      "\n",
      "at random state 6,the training acurracy is:-0.5216693781127846\n",
      "at random state 6,the test acurracy is:-0.5375356052897189\n",
      "\n",
      "\n",
      "at random state 7,the training acurracy is:-0.525566653401963\n",
      "at random state 7,the test acurracy is:-0.5285579625653642\n",
      "\n",
      "\n",
      "at random state 8,the training acurracy is:-0.5240512180120117\n",
      "at random state 8,the test acurracy is:-0.5316144666906535\n",
      "\n",
      "\n",
      "at random state 9,the training acurracy is:-0.5244387273722084\n",
      "at random state 9,the test acurracy is:-0.5310482136464999\n",
      "\n",
      "\n",
      "at random state 10,the training acurracy is:-0.5319476631826556\n",
      "at random state 10,the test acurracy is:-0.5128091006326532\n",
      "\n",
      "\n",
      "at random state 11,the training acurracy is:-0.5245155048794796\n",
      "at random state 11,the test acurracy is:-0.5303536613468866\n",
      "\n",
      "\n",
      "at random state 12,the training acurracy is:-0.5279523892228658\n",
      "at random state 12,the test acurracy is:-0.5226940910319446\n",
      "\n",
      "\n",
      "at random state 13,the training acurracy is:-0.5233953883951022\n",
      "at random state 13,the test acurracy is:-0.5334177375280869\n",
      "\n",
      "\n",
      "at random state 14,the training acurracy is:-0.5240548373364593\n",
      "at random state 14,the test acurracy is:-0.5317962160538121\n",
      "\n",
      "\n",
      "at random state 15,the training acurracy is:-0.5263418473074577\n",
      "at random state 15,the test acurracy is:-0.5262178617130729\n",
      "\n",
      "\n",
      "at random state 16,the training acurracy is:-0.5300730144508731\n",
      "at random state 16,the test acurracy is:-0.5174198699316328\n",
      "\n",
      "\n",
      "at random state 17,the training acurracy is:-0.5270882237189639\n",
      "at random state 17,the test acurracy is:-0.5242059444847444\n",
      "\n",
      "\n",
      "at random state 18,the training acurracy is:-0.5257292334652599\n",
      "at random state 18,the test acurracy is:-0.5281921111524208\n",
      "\n",
      "\n",
      "at random state 19,the training acurracy is:-0.5236408026558165\n",
      "at random state 19,the test acurracy is:-0.5331391080318352\n",
      "\n",
      "\n",
      "at random state 20,the training acurracy is:-0.526105801172243\n",
      "at random state 20,the test acurracy is:-0.5273041761761121\n",
      "\n",
      "\n",
      "at random state 21,the training acurracy is:-0.5271396363518382\n",
      "at random state 21,the test acurracy is:-0.5248518546402878\n",
      "\n",
      "\n",
      "at random state 22,the training acurracy is:-0.5282375123499394\n",
      "at random state 22,the test acurracy is:-0.5221465530024341\n",
      "\n",
      "\n",
      "at random state 23,the training acurracy is:-0.5257853686661165\n",
      "at random state 23,the test acurracy is:-0.5274640652165459\n",
      "\n",
      "\n",
      "at random state 24,the training acurracy is:-0.5313587907469366\n",
      "at random state 24,the test acurracy is:-0.5142577332121918\n",
      "\n",
      "\n",
      "at random state 25,the training acurracy is:-0.528688699089515\n",
      "at random state 25,the test acurracy is:-0.5211940046788555\n",
      "\n",
      "\n",
      "at random state 26,the training acurracy is:-0.5284461011905046\n",
      "at random state 26,the test acurracy is:-0.5217689211686869\n",
      "\n",
      "\n",
      "at random state 27,the training acurracy is:-0.5252627076583158\n",
      "at random state 27,the test acurracy is:-0.5291655822239123\n",
      "\n",
      "\n",
      "at random state 28,the training acurracy is:-0.5172623583672036\n",
      "at random state 28,the test acurracy is:-0.5476370615645709\n",
      "\n",
      "\n",
      "at random state 29,the training acurracy is:-0.5252479984629362\n",
      "at random state 29,the test acurracy is:-0.5291391976929458\n",
      "\n",
      "\n",
      "at random state 30,the training acurracy is:-0.5305238723098646\n",
      "at random state 30,the test acurracy is:-0.5165372169087138\n",
      "\n",
      "\n",
      "at random state 31,the training acurracy is:-0.5251967053668292\n",
      "at random state 31,the test acurracy is:-0.5291153877144821\n",
      "\n",
      "\n",
      "at random state 32,the training acurracy is:-0.5252052546439396\n",
      "at random state 32,the test acurracy is:-0.5293835826383374\n",
      "\n",
      "\n",
      "at random state 33,the training acurracy is:-0.5246873745335048\n",
      "at random state 33,the test acurracy is:-0.530211464555883\n",
      "\n",
      "\n",
      "at random state 34,the training acurracy is:-0.5257197311836888\n",
      "at random state 34,the test acurracy is:-0.5278506004597399\n",
      "\n",
      "\n",
      "at random state 35,the training acurracy is:-0.5253108900626461\n",
      "at random state 35,the test acurracy is:-0.5289909405835931\n",
      "\n",
      "\n",
      "at random state 36,the training acurracy is:-0.5312320353050967\n",
      "at random state 36,the test acurracy is:-0.5150179655666693\n",
      "\n",
      "\n",
      "at random state 37,the training acurracy is:-0.525338725200363\n",
      "at random state 37,the test acurracy is:-0.5289662100668835\n",
      "\n",
      "\n",
      "at random state 38,the training acurracy is:-0.5233705983354533\n",
      "at random state 38,the test acurracy is:-0.5334767029658058\n",
      "\n",
      "\n",
      "at random state 39,the training acurracy is:-0.5281084024101521\n",
      "at random state 39,the test acurracy is:-0.522311762624101\n",
      "\n",
      "\n",
      "at random state 40,the training acurracy is:-0.5270230510120198\n",
      "at random state 40,the test acurracy is:-0.5252422088824746\n",
      "\n",
      "\n",
      "at random state 41,the training acurracy is:-0.5274288704758943\n",
      "at random state 41,the test acurracy is:-0.5240507516610795\n",
      "\n",
      "\n",
      "at random state 42,the training acurracy is:-0.526046760080867\n",
      "at random state 42,the test acurracy is:-0.5268142226763928\n",
      "\n",
      "\n",
      "at random state 43,the training acurracy is:-0.5219254684288259\n",
      "at random state 43,the test acurracy is:-0.5368777753409875\n",
      "\n",
      "\n",
      "at random state 44,the training acurracy is:-0.5299331236204707\n",
      "at random state 44,the test acurracy is:-0.5181008737045419\n",
      "\n",
      "\n",
      "at random state 45,the training acurracy is:-0.5239535040089855\n",
      "at random state 45,the test acurracy is:-0.5318497100574803\n",
      "\n",
      "\n",
      "at random state 46,the training acurracy is:-0.5215323821148969\n",
      "at random state 46,the test acurracy is:-0.5376591518431855\n",
      "\n",
      "\n",
      "at random state 47,the training acurracy is:-0.5280717990391582\n",
      "at random state 47,the test acurracy is:-0.5223394326256248\n",
      "\n",
      "\n",
      "at random state 48,the training acurracy is:-0.5247192309928015\n",
      "at random state 48,the test acurracy is:-0.5297845484282667\n",
      "\n",
      "\n",
      "at random state 49,the training acurracy is:-0.5276679268399711\n",
      "at random state 49,the test acurracy is:-0.5232862241159761\n",
      "\n",
      "\n",
      "at random state 50,the training acurracy is:-0.5285509239203778\n",
      "at random state 50,the test acurracy is:-0.5215547240588863\n",
      "\n",
      "\n",
      "at random state 51,the training acurracy is:-0.5270313109499528\n",
      "at random state 51,the test acurracy is:-0.5251671742747199\n",
      "\n",
      "\n",
      "at random state 52,the training acurracy is:-0.5232981647602667\n",
      "at random state 52,the test acurracy is:-0.532826002253423\n",
      "\n",
      "\n",
      "at random state 53,the training acurracy is:-0.5251622839932827\n",
      "at random state 53,the test acurracy is:-0.5295735974455198\n",
      "\n",
      "\n",
      "at random state 54,the training acurracy is:-0.5296471184486896\n",
      "at random state 54,the test acurracy is:-0.5188599254187469\n",
      "\n",
      "\n",
      "at random state 55,the training acurracy is:-0.5274962371742473\n",
      "at random state 55,the test acurracy is:-0.5232100564491703\n",
      "\n",
      "\n",
      "at random state 56,the training acurracy is:-0.5230712463850405\n",
      "at random state 56,the test acurracy is:-0.5343729164665152\n",
      "\n",
      "\n",
      "at random state 57,the training acurracy is:-0.5266617769815065\n",
      "at random state 57,the test acurracy is:-0.5258901841444774\n",
      "\n",
      "\n",
      "at random state 58,the training acurracy is:-0.5270987308230914\n",
      "at random state 58,the test acurracy is:-0.5247458050864628\n",
      "\n",
      "\n",
      "at random state 59,the training acurracy is:-0.528071343033043\n",
      "at random state 59,the test acurracy is:-0.5224335071172284\n",
      "\n",
      "\n",
      "at random state 60,the training acurracy is:-0.5208701423075117\n",
      "at random state 60,the test acurracy is:-0.538824766137321\n",
      "\n",
      "\n",
      "at random state 61,the training acurracy is:-0.5275969785697392\n",
      "at random state 61,the test acurracy is:-0.523420700406521\n",
      "\n",
      "\n",
      "at random state 62,the training acurracy is:-0.5309170702303935\n",
      "at random state 62,the test acurracy is:-0.516089930956344\n",
      "\n",
      "\n",
      "at random state 63,the training acurracy is:-0.523866225789535\n",
      "at random state 63,the test acurracy is:-0.5321758700125376\n",
      "\n",
      "\n",
      "at random state 64,the training acurracy is:-0.5253971872141534\n",
      "at random state 64,the test acurracy is:-0.5289913035334874\n",
      "\n",
      "\n",
      "at random state 65,the training acurracy is:-0.5245481061659698\n",
      "at random state 65,the test acurracy is:-0.5309144496457363\n",
      "\n",
      "\n",
      "at random state 66,the training acurracy is:-0.5316675280278554\n",
      "at random state 66,the test acurracy is:-0.5128232060859483\n",
      "\n",
      "\n",
      "at random state 67,the training acurracy is:-0.5252462431123415\n",
      "at random state 67,the test acurracy is:-0.5293755969627315\n",
      "\n",
      "\n",
      "at random state 68,the training acurracy is:-0.5275131536523423\n",
      "at random state 68,the test acurracy is:-0.5239472399460054\n",
      "\n",
      "\n",
      "at random state 69,the training acurracy is:-0.5232474637042398\n",
      "at random state 69,the test acurracy is:-0.5336577764279347\n",
      "\n",
      "\n",
      "at random state 70,the training acurracy is:-0.5265100986049858\n",
      "at random state 70,the test acurracy is:-0.5261783616408533\n",
      "\n",
      "\n",
      "at random state 71,the training acurracy is:-0.5309176188535143\n"
     ]
    },
    {
     "name": "stdout",
     "output_type": "stream",
     "text": [
      "at random state 71,the test acurracy is:-0.5159516499844872\n",
      "\n",
      "\n",
      "at random state 72,the training acurracy is:-0.529876630223922\n",
      "at random state 72,the test acurracy is:-0.5182920497452338\n",
      "\n",
      "\n",
      "at random state 73,the training acurracy is:-0.5262753296282743\n",
      "at random state 73,the test acurracy is:-0.5265995922454088\n",
      "\n",
      "\n",
      "at random state 74,the training acurracy is:-0.5276706336813369\n",
      "at random state 74,the test acurracy is:-0.5233576456461554\n",
      "\n",
      "\n",
      "at random state 75,the training acurracy is:-0.5206071097288237\n",
      "at random state 75,the test acurracy is:-0.539705292518353\n",
      "\n",
      "\n",
      "at random state 76,the training acurracy is:-0.5241798880756516\n",
      "at random state 76,the test acurracy is:-0.5320156240123615\n",
      "\n",
      "\n",
      "at random state 77,the training acurracy is:-0.5204317908813029\n",
      "at random state 77,the test acurracy is:-0.5406346973069027\n",
      "\n",
      "\n",
      "at random state 78,the training acurracy is:-0.5237200724193984\n",
      "at random state 78,the test acurracy is:-0.532602221904156\n",
      "\n",
      "\n",
      "at random state 79,the training acurracy is:-0.5235537277085518\n",
      "at random state 79,the test acurracy is:-0.5330699076472676\n",
      "\n",
      "\n",
      "at random state 80,the training acurracy is:-0.52968909656167\n",
      "at random state 80,the test acurracy is:-0.5187556094266113\n",
      "\n",
      "\n",
      "at random state 81,the training acurracy is:-0.5287281140871318\n",
      "at random state 81,the test acurracy is:-0.5213398798283086\n",
      "\n",
      "\n",
      "at random state 82,the training acurracy is:-0.5211908010368895\n",
      "at random state 82,the test acurracy is:-0.5386178698532813\n",
      "\n",
      "\n",
      "at random state 83,the training acurracy is:-0.5295961329203691\n",
      "at random state 83,the test acurracy is:-0.5189791704918794\n",
      "\n",
      "\n",
      "at random state 84,the training acurracy is:-0.5244284537054408\n",
      "at random state 84,the test acurracy is:-0.5313167645076453\n",
      "\n",
      "\n",
      "at random state 85,the training acurracy is:-0.5247468970559647\n",
      "at random state 85,the test acurracy is:-0.5296027193383955\n",
      "\n",
      "\n",
      "at random state 86,the training acurracy is:-0.5267810536335287\n",
      "at random state 86,the test acurracy is:-0.5257731120568347\n",
      "\n",
      "\n",
      "at random state 87,the training acurracy is:-0.5266206553307047\n",
      "at random state 87,the test acurracy is:-0.5257757883171875\n",
      "\n",
      "\n",
      "at random state 88,the training acurracy is:-0.5300448121314115\n",
      "at random state 88,the test acurracy is:-0.5182430175956773\n",
      "\n",
      "\n",
      "at random state 89,the training acurracy is:-0.5229874108417181\n",
      "at random state 89,the test acurracy is:-0.534509205828536\n",
      "\n",
      "\n",
      "at random state 90,the training acurracy is:-0.5337859027155445\n",
      "at random state 90,the test acurracy is:-0.5087896651742279\n",
      "\n",
      "\n",
      "at random state 91,the training acurracy is:-0.5287451988807268\n",
      "at random state 91,the test acurracy is:-0.5209483525686716\n",
      "\n",
      "\n",
      "at random state 92,the training acurracy is:-0.5290334901155473\n",
      "at random state 92,the test acurracy is:-0.5199436327198982\n",
      "\n",
      "\n",
      "at random state 93,the training acurracy is:-0.5295225786655549\n",
      "at random state 93,the test acurracy is:-0.519208863567403\n",
      "\n",
      "\n",
      "at random state 94,the training acurracy is:-0.5315634469230448\n",
      "at random state 94,the test acurracy is:-0.5141403222588956\n",
      "\n",
      "\n",
      "at random state 95,the training acurracy is:-0.5238413497955139\n",
      "at random state 95,the test acurracy is:-0.5323819833275651\n",
      "\n",
      "\n",
      "at random state 96,the training acurracy is:-0.5242531929444105\n",
      "at random state 96,the test acurracy is:-0.5314551478584215\n",
      "\n",
      "\n",
      "at random state 97,the training acurracy is:-0.5264728060008248\n",
      "at random state 97,the test acurracy is:-0.5258706078888888\n",
      "\n",
      "\n",
      "at random state 98,the training acurracy is:-0.5328612995655786\n",
      "at random state 98,the test acurracy is:-0.5110238428945006\n",
      "\n",
      "\n",
      "at random state 99,the training acurracy is:-0.5279527173895631\n",
      "at random state 99,the test acurracy is:-0.5220982376554908\n",
      "\n",
      "\n",
      "at random state 100,the training acurracy is:-0.5286586188540849\n",
      "at random state 100,the test acurracy is:-0.5211816158431085\n",
      "\n",
      "\n",
      "at random state 101,the training acurracy is:-0.5284028429355978\n",
      "at random state 101,the test acurracy is:-0.521324844278491\n",
      "\n",
      "\n",
      "at random state 102,the training acurracy is:-0.5276483300507142\n",
      "at random state 102,the test acurracy is:-0.5234823853823661\n",
      "\n",
      "\n",
      "at random state 103,the training acurracy is:-0.5347319308516097\n",
      "at random state 103,the test acurracy is:-0.5068049165047539\n",
      "\n",
      "\n",
      "at random state 104,the training acurracy is:-0.5255487434756599\n",
      "at random state 104,the test acurracy is:-0.5284988683792303\n",
      "\n",
      "\n",
      "at random state 105,the training acurracy is:-0.5301317109579989\n",
      "at random state 105,the test acurracy is:-0.5177182887317398\n",
      "\n",
      "\n",
      "at random state 106,the training acurracy is:-0.5222971062802557\n",
      "at random state 106,the test acurracy is:-0.5360408770844419\n",
      "\n",
      "\n",
      "at random state 107,the training acurracy is:-0.5222493226676966\n",
      "at random state 107,the test acurracy is:-0.5364322255464071\n",
      "\n",
      "\n",
      "at random state 108,the training acurracy is:-0.5226212076560339\n",
      "at random state 108,the test acurracy is:-0.5349205043140083\n",
      "\n",
      "\n",
      "at random state 109,the training acurracy is:-0.5299863030238241\n",
      "at random state 109,the test acurracy is:-0.518192241214367\n",
      "\n",
      "\n",
      "at random state 110,the training acurracy is:-0.5326572099282258\n",
      "at random state 110,the test acurracy is:-0.5115676429445264\n",
      "\n",
      "\n",
      "at random state 111,the training acurracy is:-0.5327979242061949\n",
      "at random state 111,the test acurracy is:-0.5114681376131482\n",
      "\n",
      "\n",
      "at random state 112,the training acurracy is:-0.5254125562956473\n",
      "at random state 112,the test acurracy is:-0.5282300177387274\n",
      "\n",
      "\n",
      "at random state 113,the training acurracy is:-0.5263671844531209\n",
      "at random state 113,the test acurracy is:-0.5265809239397558\n",
      "\n",
      "\n",
      "at random state 114,the training acurracy is:-0.5296468615851754\n",
      "at random state 114,the test acurracy is:-0.5187888276384127\n",
      "\n",
      "\n",
      "at random state 115,the training acurracy is:-0.5236678428073152\n",
      "at random state 115,the test acurracy is:-0.5325044124395404\n",
      "\n",
      "\n",
      "at random state 116,the training acurracy is:-0.5237515651049497\n",
      "at random state 116,the test acurracy is:-0.5323363403441415\n",
      "\n",
      "\n",
      "at random state 117,the training acurracy is:-0.5215069910597078\n",
      "at random state 117,the test acurracy is:-0.5376900893975549\n",
      "\n",
      "\n",
      "at random state 118,the training acurracy is:-0.5241868306466444\n",
      "at random state 118,the test acurracy is:-0.5316190060322543\n",
      "\n",
      "\n",
      "at random state 119,the training acurracy is:-0.5264497559156804\n",
      "at random state 119,the test acurracy is:-0.5265557632243956\n",
      "\n",
      "\n",
      "at random state 120,the training acurracy is:-0.5280767074798793\n",
      "at random state 120,the test acurracy is:-0.5226558285964786\n",
      "\n",
      "\n",
      "at random state 121,the training acurracy is:-0.528419454009373\n",
      "at random state 121,the test acurracy is:-0.5216499842637294\n",
      "\n",
      "\n",
      "at random state 122,the training acurracy is:-0.531822431273297\n",
      "at random state 122,the test acurracy is:-0.5130890304469549\n",
      "\n",
      "\n",
      "at random state 123,the training acurracy is:-0.5303546808932083\n",
      "at random state 123,the test acurracy is:-0.5169733230238664\n",
      "\n",
      "\n",
      "at random state 124,the training acurracy is:-0.527114592110962\n",
      "at random state 124,the test acurracy is:-0.5246358786714058\n",
      "\n",
      "\n",
      "at random state 125,the training acurracy is:-0.5298366406421166\n",
      "at random state 125,the test acurracy is:-0.5177786701735263\n",
      "\n",
      "\n",
      "at random state 126,the training acurracy is:-0.526198980327209\n",
      "at random state 126,the test acurracy is:-0.5269202174212456\n",
      "\n",
      "\n",
      "at random state 127,the training acurracy is:-0.5284854928308518\n",
      "at random state 127,the test acurracy is:-0.5216083000992862\n",
      "\n",
      "\n",
      "at random state 128,the training acurracy is:-0.5327396151388191\n",
      "at random state 128,the test acurracy is:-0.5119737978449803\n",
      "\n",
      "\n",
      "at random state 129,the training acurracy is:-0.5251465407145641\n",
      "at random state 129,the test acurracy is:-0.5294692392490132\n",
      "\n",
      "\n",
      "at random state 130,the training acurracy is:-0.5309426376362791\n",
      "at random state 130,the test acurracy is:-0.5160427961057255\n",
      "\n",
      "\n",
      "at random state 131,the training acurracy is:-0.5247285705765647\n",
      "at random state 131,the test acurracy is:-0.5301111103362262\n",
      "\n",
      "\n",
      "at random state 132,the training acurracy is:-0.5262237213995116\n",
      "at random state 132,the test acurracy is:-0.5267204015148959\n",
      "\n",
      "\n",
      "at random state 133,the training acurracy is:-0.5287486736622603\n",
      "at random state 133,the test acurracy is:-0.5205771562227631\n",
      "\n",
      "\n",
      "at random state 134,the training acurracy is:-0.5225806821833634\n",
      "at random state 134,the test acurracy is:-0.5353020971278243\n",
      "\n",
      "\n",
      "at random state 135,the training acurracy is:-0.5317905511407066\n",
      "at random state 135,the test acurracy is:-0.513393440349827\n",
      "\n",
      "\n",
      "at random state 136,the training acurracy is:-0.5273767970798355\n",
      "at random state 136,the test acurracy is:-0.5243193797598837\n",
      "\n",
      "\n",
      "at random state 137,the training acurracy is:-0.53046213985661\n",
      "at random state 137,the test acurracy is:-0.5171167658663793\n",
      "\n",
      "\n",
      "at random state 138,the training acurracy is:-0.5272421527059019\n",
      "at random state 138,the test acurracy is:-0.5243600066849711\n",
      "\n",
      "\n",
      "at random state 139,the training acurracy is:-0.5302557405534765\n",
      "at random state 139,the test acurracy is:-0.5171001109897069\n",
      "\n",
      "\n",
      "at random state 140,the training acurracy is:-0.5229731379621603\n",
      "at random state 140,the test acurracy is:-0.5345154433633239\n",
      "\n",
      "\n",
      "at random state 141,the training acurracy is:-0.5245316386500019\n",
      "at random state 141,the test acurracy is:-0.5302120154831753\n",
      "\n",
      "\n",
      "at random state 142,the training acurracy is:-0.5285507196083564\n",
      "at random state 142,the test acurracy is:-0.521364917480128\n",
      "\n",
      "\n",
      "at random state 143,the training acurracy is:-0.527884509125699\n",
      "at random state 143,the test acurracy is:-0.5228065621723527\n",
      "\n",
      "\n",
      "at random state 144,the training acurracy is:-0.5234748514999817\n",
      "at random state 144,the test acurracy is:-0.5330604445775913\n",
      "\n",
      "\n",
      "at random state 145,the training acurracy is:-0.5261607357362902\n",
      "at random state 145,the test acurracy is:-0.5267698132640579\n",
      "\n",
      "\n",
      "at random state 146,the training acurracy is:-0.5263626581410061\n"
     ]
    },
    {
     "name": "stdout",
     "output_type": "stream",
     "text": [
      "at random state 146,the test acurracy is:-0.5264769369850604\n",
      "\n",
      "\n",
      "at random state 147,the training acurracy is:-0.5192341293243237\n",
      "at random state 147,the test acurracy is:-0.5422467877171551\n",
      "\n",
      "\n",
      "at random state 148,the training acurracy is:-0.5256496886228326\n",
      "at random state 148,the test acurracy is:-0.5280431195997417\n",
      "\n",
      "\n",
      "at random state 149,the training acurracy is:-0.529175508715126\n",
      "at random state 149,the test acurracy is:-0.5198598931931604\n",
      "\n",
      "\n",
      "at random state 150,the training acurracy is:-0.5279755758797893\n",
      "at random state 150,the test acurracy is:-0.5227162517722285\n",
      "\n",
      "\n",
      "at random state 151,the training acurracy is:-0.5302470489908814\n",
      "at random state 151,the test acurracy is:-0.517493546518139\n",
      "\n",
      "\n",
      "at random state 152,the training acurracy is:-0.5274896861295089\n",
      "at random state 152,the test acurracy is:-0.523979612429508\n",
      "\n",
      "\n",
      "at random state 153,the training acurracy is:-0.5326445927363419\n",
      "at random state 153,the test acurracy is:-0.5100724110226729\n",
      "\n",
      "\n",
      "at random state 154,the training acurracy is:-0.533754615474684\n",
      "at random state 154,the test acurracy is:-0.5081084143711088\n",
      "\n",
      "\n",
      "at random state 155,the training acurracy is:-0.5270384075134309\n",
      "at random state 155,the test acurracy is:-0.5249900565951088\n",
      "\n",
      "\n",
      "at random state 156,the training acurracy is:-0.5294132931389481\n",
      "at random state 156,the test acurracy is:-0.5192221987106356\n",
      "\n",
      "\n",
      "at random state 157,the training acurracy is:-0.5309974045766956\n",
      "at random state 157,the test acurracy is:-0.5154513947921664\n",
      "\n",
      "\n",
      "at random state 158,the training acurracy is:-0.5275765958534033\n",
      "at random state 158,the test acurracy is:-0.5240076124630983\n",
      "\n",
      "\n",
      "at random state 159,the training acurracy is:-0.5236506878543442\n",
      "at random state 159,the test acurracy is:-0.5325756644956079\n",
      "\n",
      "\n",
      "at random state 160,the training acurracy is:-0.528391018097015\n",
      "at random state 160,the test acurracy is:-0.5217728979064751\n",
      "\n",
      "\n",
      "at random state 161,the training acurracy is:-0.5269795086853588\n",
      "at random state 161,the test acurracy is:-0.5250344822436688\n",
      "\n",
      "\n",
      "at random state 162,the training acurracy is:-0.5251047893390974\n",
      "at random state 162,the test acurracy is:-0.5287421695796035\n",
      "\n",
      "\n",
      "at random state 163,the training acurracy is:-0.5309020850988388\n",
      "at random state 163,the test acurracy is:-0.51604895694103\n",
      "\n",
      "\n",
      "at random state 164,the training acurracy is:-0.5267591588509548\n",
      "at random state 164,the test acurracy is:-0.5255892646890246\n",
      "\n",
      "\n",
      "at random state 165,the training acurracy is:-0.5241193274591445\n",
      "at random state 165,the test acurracy is:-0.5314698943571234\n",
      "\n",
      "\n",
      "at random state 166,the training acurracy is:-0.528906139169495\n",
      "at random state 166,the test acurracy is:-0.5205249826971443\n",
      "\n",
      "\n",
      "at random state 167,the training acurracy is:-0.529074242213647\n",
      "at random state 167,the test acurracy is:-0.5197395570973563\n",
      "\n",
      "\n",
      "at random state 168,the training acurracy is:-0.5277302116766085\n",
      "at random state 168,the test acurracy is:-0.5235587772223967\n",
      "\n",
      "\n",
      "at random state 169,the training acurracy is:-0.5273469371321186\n",
      "at random state 169,the test acurracy is:-0.5238488005826999\n",
      "\n",
      "\n",
      "at random state 170,the training acurracy is:-0.5289394913781559\n",
      "at random state 170,the test acurracy is:-0.5203174275696965\n",
      "\n",
      "\n",
      "at random state 171,the training acurracy is:-0.531123088795866\n",
      "at random state 171,the test acurracy is:-0.515404459930934\n",
      "\n",
      "\n",
      "at random state 172,the training acurracy is:-0.5246439639709903\n",
      "at random state 172,the test acurracy is:-0.530582943122984\n",
      "\n",
      "\n",
      "at random state 173,the training acurracy is:-0.5200919292843691\n",
      "at random state 173,the test acurracy is:-0.5413766212974888\n",
      "\n",
      "\n",
      "at random state 174,the training acurracy is:-0.5254307692513572\n",
      "at random state 174,the test acurracy is:-0.5287194614444859\n",
      "\n",
      "\n",
      "at random state 175,the training acurracy is:-0.5231523871451025\n",
      "at random state 175,the test acurracy is:-0.5343242437341069\n",
      "\n",
      "\n",
      "at random state 176,the training acurracy is:-0.5311366977034992\n",
      "at random state 176,the test acurracy is:-0.5152658120336017\n",
      "\n",
      "\n",
      "at random state 177,the training acurracy is:-0.5266294395028907\n",
      "at random state 177,the test acurracy is:-0.5257861341797809\n",
      "\n",
      "\n",
      "at random state 178,the training acurracy is:-0.5263233550283565\n",
      "at random state 178,the test acurracy is:-0.5267748847902308\n",
      "\n",
      "\n",
      "at random state 179,the training acurracy is:-0.5277047504575214\n",
      "at random state 179,the test acurracy is:-0.5233688595803334\n",
      "\n",
      "\n",
      "at random state 180,the training acurracy is:-0.5255650571857673\n",
      "at random state 180,the test acurracy is:-0.5285034856560363\n",
      "\n",
      "\n",
      "at random state 181,the training acurracy is:-0.5228846286806527\n",
      "at random state 181,the test acurracy is:-0.5341817183432961\n",
      "\n",
      "\n",
      "at random state 182,the training acurracy is:-0.5217162087040144\n",
      "at random state 182,the test acurracy is:-0.5358731310405145\n",
      "\n",
      "\n",
      "at random state 183,the training acurracy is:-0.5265837610688957\n",
      "at random state 183,the test acurracy is:-0.5262287883223055\n",
      "\n",
      "\n",
      "at random state 184,the training acurracy is:-0.5214358300568404\n",
      "at random state 184,the test acurracy is:-0.5375566921459083\n",
      "\n",
      "\n",
      "at random state 185,the training acurracy is:-0.5360724156764479\n",
      "at random state 185,the test acurracy is:-0.5025236114742128\n",
      "\n",
      "\n",
      "at random state 186,the training acurracy is:-0.5290157499398281\n",
      "at random state 186,the test acurracy is:-0.5203529442332775\n",
      "\n",
      "\n",
      "at random state 187,the training acurracy is:-0.5264787773740949\n",
      "at random state 187,the test acurracy is:-0.5263986654287096\n",
      "\n",
      "\n",
      "at random state 188,the training acurracy is:-0.527074201928351\n",
      "at random state 188,the test acurracy is:-0.5241561929132643\n",
      "\n",
      "\n",
      "at random state 189,the training acurracy is:-0.5240193066255743\n",
      "at random state 189,the test acurracy is:-0.531994095120753\n",
      "\n",
      "\n",
      "at random state 190,the training acurracy is:-0.5350977918570083\n",
      "at random state 190,the test acurracy is:-0.5056994281317677\n",
      "\n",
      "\n",
      "at random state 191,the training acurracy is:-0.5229082296602912\n",
      "at random state 191,the test acurracy is:-0.5344701735469828\n",
      "\n",
      "\n",
      "at random state 192,the training acurracy is:-0.5274672347845988\n",
      "at random state 192,the test acurracy is:-0.5238196452262127\n",
      "\n",
      "\n",
      "at random state 193,the training acurracy is:-0.5240776459838385\n",
      "at random state 193,the test acurracy is:-0.5319127652549809\n",
      "\n",
      "\n",
      "at random state 194,the training acurracy is:-0.5259930503450687\n",
      "at random state 194,the test acurracy is:-0.5272533556762368\n",
      "\n",
      "\n",
      "at random state 195,the training acurracy is:-0.5248062584123647\n",
      "at random state 195,the test acurracy is:-0.5294372670650991\n",
      "\n",
      "\n",
      "at random state 196,the training acurracy is:-0.5217255867243514\n",
      "at random state 196,the test acurracy is:-0.5370703811008344\n",
      "\n",
      "\n",
      "at random state 197,the training acurracy is:-0.5232933791772328\n",
      "at random state 197,the test acurracy is:-0.5335089542200271\n",
      "\n",
      "\n",
      "at random state 198,the training acurracy is:-0.5289689716947323\n",
      "at random state 198,the test acurracy is:-0.5204465550776389\n",
      "\n",
      "\n",
      "at random state 199,the training acurracy is:-0.5285246300449249\n",
      "at random state 199,the test acurracy is:-0.5216697570462903\n",
      "\n",
      "\n"
     ]
    }
   ],
   "source": [
    "for i in range(0,200):\n",
    "    X_train,X_test,Y_train,Y_test=train_test_split(x,y,random_state=i,test_size=.3)\n",
    "    lr.fit(X_train,Y_train)\n",
    "    train_pred=lr.predict(X_train)\n",
    "    test_pred=lr.predict(X_test)\n",
    "    print(f\"at random state {i},the training acurracy is:-{r2_score(Y_train,train_pred)}\")\n",
    "    print(f\"at random state {i},the test acurracy is:-{r2_score(Y_test,test_pred)}\")\n",
    "    print('\\n')\n",
    "    \n",
    "          "
   ]
  },
  {
   "cell_type": "markdown",
   "id": "c922667b",
   "metadata": {},
   "source": [
    "from random state 6 i get 52 and 53 accuracy however overall the acuracy lies between 51 to 54 and will see how we can improvise it by tunning the model"
   ]
  },
  {
   "cell_type": "code",
   "execution_count": 207,
   "id": "36b1789e",
   "metadata": {},
   "outputs": [],
   "source": [
    "# spliting the train and test data keeping the random state as 6\n",
    "X_train,X_test,Y_train,Y_test=train_test_split(x,y,random_state=6,test_size=.3)"
   ]
  },
  {
   "cell_type": "code",
   "execution_count": 208,
   "id": "73d94a62",
   "metadata": {},
   "outputs": [
    {
     "data": {
      "text/plain": [
       "LinearRegression()"
      ]
     },
     "execution_count": 208,
     "metadata": {},
     "output_type": "execute_result"
    }
   ],
   "source": [
    "# train the model\n",
    "lr.fit(X_train,Y_train)"
   ]
  },
  {
   "cell_type": "code",
   "execution_count": 209,
   "id": "6f18d4d8",
   "metadata": {},
   "outputs": [],
   "source": [
    "test_pred=lr.predict(X_test)"
   ]
  },
  {
   "cell_type": "markdown",
   "id": "96034fad",
   "metadata": {},
   "source": [
    "cross validation model"
   ]
  },
  {
   "cell_type": "code",
   "execution_count": 210,
   "id": "c7accc27",
   "metadata": {},
   "outputs": [
    {
     "name": "stdout",
     "output_type": "stream",
     "text": [
      "At cross validation 2 the cv score is -4.213578833775001 and accuracy score for training is -0.5274966796903813 and acc for test is 0.5375356052897189\n",
      "\n",
      "\n",
      "At cross validation 3 the cv score is 0.12780573142870186 and accuracy score for training is -0.5274966796903813 and acc for test is 0.5375356052897189\n",
      "\n",
      "\n",
      "At cross validation 4 the cv score is 0.10048558400644056 and accuracy score for training is -0.5274966796903813 and acc for test is 0.5375356052897189\n",
      "\n",
      "\n",
      "At cross validation 5 the cv score is 0.18560094951795372 and accuracy score for training is -0.5274966796903813 and acc for test is 0.5375356052897189\n",
      "\n",
      "\n",
      "At cross validation 6 the cv score is 0.1339518766240354 and accuracy score for training is -0.5274966796903813 and acc for test is 0.5375356052897189\n",
      "\n",
      "\n",
      "At cross validation 7 the cv score is 0.15340962774226138 and accuracy score for training is -0.5274966796903813 and acc for test is 0.5375356052897189\n",
      "\n",
      "\n",
      "At cross validation 8 the cv score is 0.15153881093365595 and accuracy score for training is -0.5274966796903813 and acc for test is 0.5375356052897189\n",
      "\n",
      "\n",
      "At cross validation 9 the cv score is 0.15649718092053425 and accuracy score for training is -0.5274966796903813 and acc for test is 0.5375356052897189\n",
      "\n",
      "\n"
     ]
    }
   ],
   "source": [
    "train_acc=r2_score(Y_train,train_pred)\n",
    "test_acc=r2_score(Y_test,test_pred)\n",
    "\n",
    "from sklearn.model_selection import cross_val_score\n",
    "for j in range(2,10):\n",
    "    cv_score=cross_val_score(lr,x,y,cv=j)\n",
    "    cv_mean=cv_score.mean()\n",
    "    print(f\"At cross validation {j} the cv score is {cv_mean} and accuracy score for training is {train_acc} and acc for test is {test_acc}\")\n",
    "    print('\\n')\n",
    "\n",
    "    "
   ]
  },
  {
   "cell_type": "code",
   "execution_count": 212,
   "id": "cc805e9c",
   "metadata": {},
   "outputs": [
    {
     "data": {
      "image/png": "[encoded data removed]",
      "text/plain": [
       "<Figure size 1080x288 with 1 Axes>"
      ]
     },
     "metadata": {
      "needs_background": "light"
     },
     "output_type": "display_data"
    }
   ],
   "source": [
    "# plot the final data\n",
    "from matplotlib import pyplot as plt\n",
    "plt.figure(figsize=(15,4))\n",
    "plt.scatter(x=Y_test,y=test_pred,color='blue')\n",
    "plt.plot(Y_test,Y_test,color='red')\n",
    "plt.show()\n"
   ]
  },
  {
   "cell_type": "markdown",
   "id": "e7ea061c",
   "metadata": {},
   "source": [
    "Regularisation:"
   ]
  },
  {
   "cell_type": "code",
   "execution_count": 214,
   "id": "3a6e0032",
   "metadata": {},
   "outputs": [],
   "source": [
    "from sklearn.model_selection import GridSearchCV\n",
    "from sklearn.model_selection import cross_val_score\n",
    "import warnings \n",
    "warnings.filterwarnings('ignore')\n"
   ]
  },
  {
   "cell_type": "code",
   "execution_count": 215,
   "id": "d6d28412",
   "metadata": {},
   "outputs": [
    {
     "name": "stdout",
     "output_type": "stream",
     "text": [
      "{'alpha': 0.0001, 'random_state': 0}\n"
     ]
    }
   ],
   "source": [
    "from sklearn.linear_model import Lasso\n",
    "\n",
    "parameters={'alpha':[.0001,.001,.01,.1,1,10],'random_state':list(range(0,1))}\n",
    "ls=Lasso()\n",
    "clf=GridSearchCV(ls,parameters)\n",
    "clf.fit(X_train,Y_train)\n",
    "\n",
    "print(clf.best_params_)"
   ]
  },
  {
   "cell_type": "code",
   "execution_count": 218,
   "id": "0a1f94c0",
   "metadata": {},
   "outputs": [
    {
     "data": {
      "text/plain": [
       "52.16596301872114"
      ]
     },
     "execution_count": 218,
     "metadata": {},
     "output_type": "execute_result"
    }
   ],
   "source": [
    "lso=Lasso(alpha=0.0001,random_state=0)\n",
    "lso.fit(X_train,Y_train)\n",
    "lso_score_train=lso.score(X_train,Y_train)\n",
    "pred_ls=lso.predict(X_test)\n",
    "ls_score_train*100"
   ]
  },
  {
   "cell_type": "code",
   "execution_count": 219,
   "id": "16e67924",
   "metadata": {},
   "outputs": [
    {
     "data": {
      "text/plain": [
       "53.75815592113694"
      ]
     },
     "execution_count": 219,
     "metadata": {},
     "output_type": "execute_result"
    }
   ],
   "source": [
    "lss=r2_score(Y_test,pred_ls)\n",
    "lss*100"
   ]
  },
  {
   "cell_type": "code",
   "execution_count": 221,
   "id": "5b5e46c7",
   "metadata": {},
   "outputs": [],
   "source": [
    "# save the model using pickle\n",
    "import pickle\n",
    "file_name=\"priceprediction.pkl\"\n",
    "pickle.dump(lso,open(file_name,'wb'))\n"
   ]
  },
  {
   "cell_type": "code",
   "execution_count": 222,
   "id": "75c006a5",
   "metadata": {},
   "outputs": [
    {
     "data": {
      "text/plain": [
       "53.75815592113694"
      ]
     },
     "execution_count": 222,
     "metadata": {},
     "output_type": "execute_result"
    }
   ],
   "source": [
    "loaded_model=pickle.load(open('priceprediction.pkl','rb'))\n",
    "result=loaded_model.score(X_test,Y_test)\n",
    "result*100"
   ]
  },
  {
   "cell_type": "code",
   "execution_count": 223,
   "id": "34b785f2",
   "metadata": {},
   "outputs": [
    {
     "data": {
      "text/html": [
       "<div>\n",
       "<style scoped>\n",
       "    .dataframe tbody tr th:only-of-type {\n",
       "        vertical-align: middle;\n",
       "    }\n",
       "\n",
       "    .dataframe tbody tr th {\n",
       "        vertical-align: top;\n",
       "    }\n",
       "\n",
       "    .dataframe thead th {\n",
       "        text-align: right;\n",
       "    }\n",
       "</style>\n",
       "<table border=\"1\" class=\"dataframe\">\n",
       "  <thead>\n",
       "    <tr style=\"text-align: right;\">\n",
       "      <th></th>\n",
       "      <th>0</th>\n",
       "      <th>1</th>\n",
       "      <th>2</th>\n",
       "      <th>3</th>\n",
       "      <th>4</th>\n",
       "      <th>5</th>\n",
       "      <th>6</th>\n",
       "      <th>7</th>\n",
       "      <th>8</th>\n",
       "      <th>9</th>\n",
       "      <th>...</th>\n",
       "      <th>5286</th>\n",
       "      <th>5287</th>\n",
       "      <th>5288</th>\n",
       "      <th>5289</th>\n",
       "      <th>5290</th>\n",
       "      <th>5291</th>\n",
       "      <th>5292</th>\n",
       "      <th>5293</th>\n",
       "      <th>5294</th>\n",
       "      <th>5295</th>\n",
       "    </tr>\n",
       "  </thead>\n",
       "  <tbody>\n",
       "    <tr>\n",
       "      <th>Predicted</th>\n",
       "      <td>1.09585</td>\n",
       "      <td>1.153984</td>\n",
       "      <td>1.173636</td>\n",
       "      <td>0.9809</td>\n",
       "      <td>1.694136</td>\n",
       "      <td>1.551301</td>\n",
       "      <td>1.293596</td>\n",
       "      <td>1.154963</td>\n",
       "      <td>1.21774</td>\n",
       "      <td>1.322285</td>\n",
       "      <td>...</td>\n",
       "      <td>1.156827</td>\n",
       "      <td>1.279259</td>\n",
       "      <td>1.634682</td>\n",
       "      <td>1.774899</td>\n",
       "      <td>1.582378</td>\n",
       "      <td>1.168247</td>\n",
       "      <td>1.248301</td>\n",
       "      <td>1.321407</td>\n",
       "      <td>1.267926</td>\n",
       "      <td>1.279564</td>\n",
       "    </tr>\n",
       "    <tr>\n",
       "      <th>Actual</th>\n",
       "      <td>0.76000</td>\n",
       "      <td>0.960000</td>\n",
       "      <td>1.030000</td>\n",
       "      <td>0.8400</td>\n",
       "      <td>1.770000</td>\n",
       "      <td>1.360000</td>\n",
       "      <td>0.980000</td>\n",
       "      <td>0.900000</td>\n",
       "      <td>1.07000</td>\n",
       "      <td>1.250000</td>\n",
       "      <td>...</td>\n",
       "      <td>1.240000</td>\n",
       "      <td>1.220000</td>\n",
       "      <td>1.200000</td>\n",
       "      <td>2.020000</td>\n",
       "      <td>1.770000</td>\n",
       "      <td>1.230000</td>\n",
       "      <td>1.000000</td>\n",
       "      <td>1.310000</td>\n",
       "      <td>1.570000</td>\n",
       "      <td>1.280000</td>\n",
       "    </tr>\n",
       "  </tbody>\n",
       "</table>\n",
       "<p>2 rows × 5296 columns</p>\n",
       "</div>"
      ],
      "text/plain": [
       "              0         1         2       3         4         5         6     \\\n",
       "Predicted  1.09585  1.153984  1.173636  0.9809  1.694136  1.551301  1.293596   \n",
       "Actual     0.76000  0.960000  1.030000  0.8400  1.770000  1.360000  0.980000   \n",
       "\n",
       "               7        8         9     ...      5286      5287      5288  \\\n",
       "Predicted  1.154963  1.21774  1.322285  ...  1.156827  1.279259  1.634682   \n",
       "Actual     0.900000  1.07000  1.250000  ...  1.240000  1.220000  1.200000   \n",
       "\n",
       "               5289      5290      5291      5292      5293      5294  \\\n",
       "Predicted  1.774899  1.582378  1.168247  1.248301  1.321407  1.267926   \n",
       "Actual     2.020000  1.770000  1.230000  1.000000  1.310000  1.570000   \n",
       "\n",
       "               5295  \n",
       "Predicted  1.279564  \n",
       "Actual     1.280000  \n",
       "\n",
       "[2 rows x 5296 columns]"
      ]
     },
     "execution_count": 223,
     "metadata": {},
     "output_type": "execute_result"
    }
   ],
   "source": [
    "import pandas as pd\n",
    "Out_df=pd.DataFrame([loaded_model.predict(X_test)[:],Y_test[:]],index=[\"Predicted\",\"Actual\"])\n",
    "Out_df"
   ]
  },
  {
   "cell_type": "code",
   "execution_count": null,
   "id": "43498238",
   "metadata": {},
   "outputs": [],
   "source": []
  }
 ],
 "metadata": {
  "kernelspec": {
   "display_name": "Python 3 (ipykernel)",
   "language": "python",
   "name": "python3"
  },
  "language_info": {
   "codemirror_mode": {
    "name": "ipython",
    "version": 3
   },
   "file_extension": ".py",
   "mimetype": "text/x-python",
   "name": "python",
   "nbconvert_exporter": "python",
   "pygments_lexer": "ipython3",
   "version": "3.9.7"
  }
 },
 "nbformat": 4,
 "nbformat_minor": 5
}
